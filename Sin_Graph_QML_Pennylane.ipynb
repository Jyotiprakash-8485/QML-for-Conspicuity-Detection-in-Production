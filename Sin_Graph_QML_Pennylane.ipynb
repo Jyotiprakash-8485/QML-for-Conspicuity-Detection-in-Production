{
  "nbformat": 4,
  "nbformat_minor": 0,
  "metadata": {
    "colab": {
      "provenance": []
    },
    "kernelspec": {
      "name": "python3",
      "display_name": "Python 3"
    },
    "language_info": {
      "name": "python"
    }
  },
  "cells": [
    {
      "cell_type": "markdown",
      "source": [
        "<h1 style=\"text-align: center;\">QML for Sine function </h1>"
      ],
      "metadata": {
        "id": "lCTCzuu4Gvnd"
      }
    },
    {
      "cell_type": "markdown",
      "source": [
        "##Installing Pennylane"
      ],
      "metadata": {
        "id": "_0D_zCwi9Jns"
      }
    },
    {
      "cell_type": "code",
      "execution_count": 1,
      "metadata": {
        "colab": {
          "base_uri": "https://localhost:8080/"
        },
        "collapsed": true,
        "id": "vKPYA-CSTg_c",
        "outputId": "014381fa-1b7b-465c-a15e-550dc773f6b6"
      },
      "outputs": [
        {
          "output_type": "stream",
          "name": "stdout",
          "text": [
            "Requirement already satisfied: pennylane in /usr/local/lib/python3.10/dist-packages (0.37.0)\n",
            "Requirement already satisfied: numpy<2.0 in /usr/local/lib/python3.10/dist-packages (from pennylane) (1.26.4)\n",
            "Requirement already satisfied: scipy in /usr/local/lib/python3.10/dist-packages (from pennylane) (1.13.1)\n",
            "Requirement already satisfied: networkx in /usr/local/lib/python3.10/dist-packages (from pennylane) (3.3)\n",
            "Requirement already satisfied: rustworkx in /usr/local/lib/python3.10/dist-packages (from pennylane) (0.15.1)\n",
            "Requirement already satisfied: autograd in /usr/local/lib/python3.10/dist-packages (from pennylane) (1.6.2)\n",
            "Requirement already satisfied: toml in /usr/local/lib/python3.10/dist-packages (from pennylane) (0.10.2)\n",
            "Requirement already satisfied: appdirs in /usr/local/lib/python3.10/dist-packages (from pennylane) (1.4.4)\n",
            "Requirement already satisfied: semantic-version>=2.7 in /usr/local/lib/python3.10/dist-packages (from pennylane) (2.10.0)\n",
            "Requirement already satisfied: autoray>=0.6.11 in /usr/local/lib/python3.10/dist-packages (from pennylane) (0.6.12)\n",
            "Requirement already satisfied: cachetools in /usr/local/lib/python3.10/dist-packages (from pennylane) (5.4.0)\n",
            "Requirement already satisfied: pennylane-lightning>=0.37 in /usr/local/lib/python3.10/dist-packages (from pennylane) (0.37.0)\n",
            "Requirement already satisfied: requests in /usr/local/lib/python3.10/dist-packages (from pennylane) (2.31.0)\n",
            "Requirement already satisfied: typing-extensions in /usr/local/lib/python3.10/dist-packages (from pennylane) (4.12.2)\n",
            "Requirement already satisfied: packaging in /usr/local/lib/python3.10/dist-packages (from pennylane) (24.1)\n",
            "Requirement already satisfied: future>=0.15.2 in /usr/local/lib/python3.10/dist-packages (from autograd->pennylane) (1.0.0)\n",
            "Requirement already satisfied: charset-normalizer<4,>=2 in /usr/local/lib/python3.10/dist-packages (from requests->pennylane) (3.3.2)\n",
            "Requirement already satisfied: idna<4,>=2.5 in /usr/local/lib/python3.10/dist-packages (from requests->pennylane) (3.7)\n",
            "Requirement already satisfied: urllib3<3,>=1.21.1 in /usr/local/lib/python3.10/dist-packages (from requests->pennylane) (2.0.7)\n",
            "Requirement already satisfied: certifi>=2017.4.17 in /usr/local/lib/python3.10/dist-packages (from requests->pennylane) (2024.7.4)\n"
          ]
        }
      ],
      "source": [
        "!pip install pennylane"
      ]
    },
    {
      "cell_type": "markdown",
      "source": [
        "##Importing Liabraries"
      ],
      "metadata": {
        "id": "EaLAFuf99yUo"
      }
    },
    {
      "cell_type": "code",
      "source": [
        "import pennylane as qml\n",
        "from pennylane import numpy as np\n",
        "import matplotlib.pyplot as plt"
      ],
      "metadata": {
        "id": "A839bALJTnVk"
      },
      "execution_count": 2,
      "outputs": []
    },
    {
      "cell_type": "markdown",
      "source": [
        "##Generating Data\n",
        "\n",
        "In this cell, we generate the data our model will learn from. We create sets of input and output values that represent a simple relationship (like a sine wave). We also generate separate data for testing how well our model performs later."
      ],
      "metadata": {
        "id": "ZLa7c3Ub96jI"
      }
    },
    {
      "cell_type": "code",
      "source": [
        "input_data=np.linspace(0,2*np.pi,10)\n",
        "output_data=np.sin(input_data)\n",
        "test_data=np.linspace(0.5,1.8*np.pi,10)\n",
        "test_output=np.sin(test_data)"
      ],
      "metadata": {
        "id": "8P9CA-QYTsTv"
      },
      "execution_count": 3,
      "outputs": []
    },
    {
      "cell_type": "markdown",
      "source": [
        "##Defining the Quantum Circuit\n",
        "\n",
        "This is where we define the heart of our quantum machine learning model – *the quantum circuit*. It's a sequence of quantum operations that processes the input data and produces an output. Think of it as a recipe that the quantum computer follows."
      ],
      "metadata": {
        "id": "djfoPowT-uAk"
      }
    },
    {
      "cell_type": "code",
      "source": [
        "dev=qml.device(\"default.qubit\",wires=1)\n",
        "@qml.qnode(dev) # Define a quantum node (function) to be executed on the device\n",
        "def my_circuit(params,input): # Define the quantum circuit with parameters and input\n",
        "  qml.RY(input,wires=0) # Apply a rotation around the Y-axis based on the input\n",
        "\n",
        "  # Apply rotations around the X, Y, and Z axes based on parameters\n",
        "  qml.RX(params[0],wires=0)\n",
        "  qml.RY(params[1],wires=0)\n",
        "  qml.RZ(params[2],wires=0)\n",
        "\n",
        "  return qml.expval(qml.PauliZ(0))"
      ],
      "metadata": {
        "id": "uH7A-0qkTy9R"
      },
      "execution_count": 4,
      "outputs": []
    },
    {
      "cell_type": "markdown",
      "source": [
        "##Defining the Cost Function\n",
        "\n",
        "The cost function is our way of measuring how far off our model's predictions are from the actual answers. It calculates the error, which we aim to minimize during training."
      ],
      "metadata": {
        "id": "AtduPBqn_s1w"
      }
    },
    {
      "cell_type": "code",
      "source": [
        "def cost(params, input, output):\n",
        "    params_np = np.array(params)\n",
        "    predictions = np.array([my_circuit(params_np, x) for x in input]) # Make predictions using the quantum circuit\n",
        "    cost_value = np.mean((predictions - output) ** 2) # Calculate the mean squared error (MSE) between predictions and actual outputs\n",
        "    return cost_value"
      ],
      "metadata": {
        "id": "J58Ki1VKUR0d"
      },
      "execution_count": 5,
      "outputs": []
    },
    {
      "cell_type": "markdown",
      "source": [
        "##Defining the Accuracy Function\n",
        "\n",
        "The accuracy function is like a scorecard. It tells us what percentage of predictions our model gets right on the test data."
      ],
      "metadata": {
        "id": "BTV9gfsv__7i"
      }
    },
    {
      "cell_type": "code",
      "source": [
        "def accuracy(labels, predictions): # Calculate the accuracy of predictions compared to labels\n",
        "    acc = sum(abs(l - p) < 1e-5 for l, p in zip(labels, predictions))\n",
        "    acc = acc / len(labels)\n",
        "    return acc"
      ],
      "metadata": {
        "id": "YNMALONcyvqL"
      },
      "execution_count": 6,
      "outputs": []
    },
    {
      "cell_type": "markdown",
      "source": [
        "##Initializing the Optimizer"
      ],
      "metadata": {
        "id": "S-3teCEqATeX"
      }
    },
    {
      "cell_type": "code",
      "source": [
        "optimizer=qml.GradientDescentOptimizer(stepsize=0.1) # Initialize an optimizer with a learning rate"
      ],
      "metadata": {
        "id": "2nBIsJejUsLl"
      },
      "execution_count": 7,
      "outputs": []
    },
    {
      "cell_type": "markdown",
      "source": [
        "##Initializing Parameters"
      ],
      "metadata": {
        "id": "8JMK1neYA4Fg"
      }
    },
    {
      "cell_type": "code",
      "source": [
        "params=np.array([0.1,0.1,0.1],requires_grad=True) # Set initial parameter values"
      ],
      "metadata": {
        "id": "ulYRTNNJbwTB"
      },
      "execution_count": 8,
      "outputs": []
    },
    {
      "cell_type": "markdown",
      "source": [
        "##Training and Testing\n",
        "\n",
        "This is the training loop. We repeatedly use the optimizer to update the parameters of our model based on the calculated error (cost). It's like practicing and getting better over time."
      ],
      "metadata": {
        "id": "C3FRVK3yA52X"
      }
    },
    {
      "cell_type": "code",
      "source": [
        "for i in range(200):\n",
        "    result = optimizer.step(cost, params, input_data, output_data) # Update parameters using the optimizer\n",
        "    params = np.array(result[0]) # Extract updated parameters\n",
        "    if (i+1) % 20 == 0:\n",
        "        cost_value = cost(params, input_data, output_data) # Calculate the cost after each step\n",
        "        test_predictions = [my_circuit(params, x_test) for x_test in test_data]\n",
        "        test_accuracy = accuracy(test_output, test_predictions) # Calculate accuracy on the test data\n",
        "        print(f\"Iteration {i+1}: Cost = {cost_value}, Accuracy = {test_accuracy}\")"
      ],
      "metadata": {
        "colab": {
          "base_uri": "https://localhost:8080/"
        },
        "id": "BwQs0j7h1rUg",
        "outputId": "348758ba-e198-428a-a54d-2b8c13c8ceed"
      },
      "execution_count": 9,
      "outputs": [
        {
          "output_type": "stream",
          "name": "stdout",
          "text": [
            "Iteration 20: Cost = 0.04334048161465953, Accuracy = 0.0\n",
            "Iteration 40: Cost = 0.0007058495882741867, Accuracy = 0.0\n",
            "Iteration 60: Cost = 1.1412333156430229e-05, Accuracy = 0.0\n",
            "Iteration 80: Cost = 1.8450004405608988e-07, Accuracy = 0.0\n",
            "Iteration 100: Cost = 2.982756902828402e-09, Accuracy = 0.1\n",
            "Iteration 120: Cost = 4.822133551826498e-11, Accuracy = 1.0\n",
            "Iteration 140: Cost = 7.795798563486854e-13, Accuracy = 1.0\n",
            "Iteration 160: Cost = 1.2603233489657905e-14, Accuracy = 1.0\n",
            "Iteration 180: Cost = 2.0375269722299728e-16, Accuracy = 1.0\n",
            "Iteration 200: Cost = 3.294009128432189e-18, Accuracy = 1.0\n"
          ]
        }
      ]
    },
    {
      "cell_type": "markdown",
      "source": [
        "##Generating Test Predictions\n",
        "\n",
        "After training, we use our model to generate predictions on the test data. This helps us evaluate how well it generalizes to new, unseen data."
      ],
      "metadata": {
        "id": "r8d1wIQFBKOs"
      }
    },
    {
      "cell_type": "code",
      "source": [
        "test_predictions = []\n",
        "for x_test in test_data: # Iterate over test inputs\n",
        "    prediction = my_circuit(params,x_test) # Make predictions using the trained model\n",
        "    test_predictions.append(prediction)"
      ],
      "metadata": {
        "id": "DbAzMad8VHq1"
      },
      "execution_count": 10,
      "outputs": []
    },
    {
      "cell_type": "markdown",
      "source": [
        "##Plotting Results\n",
        "\n",
        " Finally, we create a plot to visualize the results. We can see how well our model's predictions match the actual values, both for the training and test data. This helps us understand the performance of our quantum machine learning model."
      ],
      "metadata": {
        "id": "GSIQu_IDBZsD"
      }
    },
    {
      "cell_type": "code",
      "source": [
        "fig = plt.figure()\n",
        "ax1 = fig.add_subplot(111)\n",
        "\n",
        "ax1.scatter(input_data, output_data, s=30, c='b', marker=\"s\", label='Train outputs')\n",
        "ax1.scatter(test_data,test_output, s=60, c='r', marker=\"o\", label='Test outputs')\n",
        "ax1.scatter(test_data,test_predictions, s=30, c='k', marker=\"x\", label='Test predicitons')\n",
        "plt.xlabel(\"Inputs\")\n",
        "plt.ylabel(\"Outputs\")\n",
        "plt.title(\"QML results\")\n",
        "\n",
        "plt.legend(loc='upper right');\n",
        "plt.show()"
      ],
      "metadata": {
        "colab": {
          "base_uri": "https://localhost:8080/",
          "height": 472
        },
        "id": "NZjaCShdVkjX",
        "outputId": "cc883407-aa1f-41c8-e83d-c9b61943486e"
      },
      "execution_count": 11,
      "outputs": [
        {
          "output_type": "display_data",
          "data": {
            "text/plain": [
              "<Figure size 640x480 with 1 Axes>"
            ],
            "image/png": "[encoded data removed]"
          },
          "metadata": {}
        }
      ]
    }
  ]
}