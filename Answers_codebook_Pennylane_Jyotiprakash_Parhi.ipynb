{
  "nbformat": 4,
  "nbformat_minor": 0,
  "metadata": {
    "colab": {
      "provenance": [],
      "collapsed_sections": [
        "SgsgC7eahal-",
        "XGvVPP51qV6E",
        "mlb3TUinUljo",
        "z-4pZ6tqXKcg"
      ]
    },
    "kernelspec": {
      "name": "python3",
      "display_name": "Python 3"
    },
    "language_info": {
      "name": "python"
    }
  },
  "cells": [
    {
      "cell_type": "markdown",
      "source": [
        "<h1><center>Codebook :--- Pennylane</center></h1>"
      ],
      "metadata": {
        "id": "PbXBvXejgfOF"
      }
    },
    {
      "cell_type": "markdown",
      "source": [
        "##1. Introduction to Quantum Computing"
      ],
      "metadata": {
        "id": "SgsgC7eahal-"
      }
    },
    {
      "cell_type": "markdown",
      "source": [
        "###**(a)**-- All about Qubits\n",
        "\n",
        "Learning Objectives:\n",
        "\n",
        "\n",
        "\n",
        "*   Write down a mathematical description of a qubit state in two different notations.\n",
        "*   Define and give examples of what it means for a quantum system to be in a superposition of states.\n",
        "\n",
        "*   State the relationship between amplitudes and measurement outcome probabilities, and what it means for a state to be normalized.\n",
        "*   Explain how operations are mathematically applied to qubit states.\n",
        "\n",
        "\n",
        "These are the learning objectives posted in the pennylane codebook."
      ],
      "metadata": {
        "id": "w_Av646WhkLZ"
      }
    },
    {
      "cell_type": "code",
      "source": [
        "import numpy as np"
      ],
      "metadata": {
        "id": "9E4jhtvxklyp"
      },
      "execution_count": 1,
      "outputs": []
    },
    {
      "cell_type": "code",
      "source": [
        "\"\"\" I.1.1:- Normalisation of Quantum States \"\"\"\n",
        "\n",
        "# Here are the vector representations of |0> and |1>, for convenience\n",
        "ket_0 = np.array([1, 0])\n",
        "ket_1 = np.array([0, 1])\n",
        "\n",
        "\n",
        "def normalize_state(alpha, beta):\n",
        "    \"\"\"Compute a normalized quantum state given arbitrary amplitudes.\n",
        "\n",
        "    Args:\n",
        "        alpha (complex): The amplitude associated with the |0> state.\n",
        "        beta (complex): The amplitude associated with the |1> state.\n",
        "\n",
        "    Returns:\n",
        "        np.array[complex]: A vector (numpy array) with 2 elements that represents\n",
        "        a normalized quantum state.\n",
        "    \"\"\"\n",
        "\n",
        "    ##################\n",
        "    f=np.linalg.norm(np.array([alpha,beta]))\n",
        "    a=alpha/f\n",
        "    b=beta/f\n",
        "    vec=np.array([a,b])\n",
        "    return vec\n",
        "    ##################\n",
        "\n",
        "\n",
        "\n",
        "    # CREATE A VECTOR [a', b'] BASED ON alpha AND beta SUCH THAT |a'|^2 + |b'|^2 = 1\n",
        "    # RETURN A VECTOR\n",
        "    pass"
      ],
      "metadata": {
        "id": "w97FRBA4kFmM"
      },
      "execution_count": 2,
      "outputs": []
    },
    {
      "cell_type": "code",
      "source": [
        "\"\"\" I.1.2:- Inner Product and Orthonormal bases\"\"\"\n",
        "\n",
        "def inner_product(state_1, state_2):\n",
        "    \"\"\"Compute the inner product between two states.\n",
        "\n",
        "    Args:\n",
        "        state_1 (np.array[complex]): A normalized quantum state vector\n",
        "        state_2 (np.array[complex]): A second normalized quantum state vector\n",
        "\n",
        "    Returns:\n",
        "        complex: The value of the inner product <state_1 | state_2>.\n",
        "    \"\"\"\n",
        "\n",
        "    ##################\n",
        "    return np.inner(state_1.conjugate(),state_2)\n",
        "    ##################\n",
        "\n",
        "    # COMPUTE AND RETURN THE INNER PRODUCT\n",
        "\n",
        "\n",
        "\n",
        "\n",
        "# Test your results with this code\n",
        "ket_0 = np.array([1, 0])\n",
        "ket_1 = np.array([0, 1])\n",
        "\n",
        "print(f\"<0|0> = {inner_product(ket_0, ket_0)}\")\n",
        "print(f\"<0|1> = {inner_product(ket_0, ket_1)}\")\n",
        "print(f\"<1|0> = {inner_product(ket_1, ket_0)}\")\n",
        "print(f\"<1|1> = {inner_product(ket_1, ket_1)}\")"
      ],
      "metadata": {
        "colab": {
          "base_uri": "https://localhost:8080/"
        },
        "id": "G7h1hjq_jgSH",
        "outputId": "913c7b93-bea6-4358-e9ca-d15e6d948a16"
      },
      "execution_count": 3,
      "outputs": [
        {
          "output_type": "stream",
          "name": "stdout",
          "text": [
            "<0|0> = 1\n",
            "<0|1> = 0\n",
            "<1|0> = 0\n",
            "<1|1> = 1\n"
          ]
        }
      ]
    },
    {
      "cell_type": "code",
      "source": [
        "\"\"\" I.1.3:- Sampling Measurement outcomes \"\"\"\n",
        "\n",
        "def measure_state(state, num_meas):\n",
        "    \"\"\"Simulate a quantum measurement process.\n",
        "\n",
        "    Args:\n",
        "        state (np.array[complex]): A normalized qubit state vector.\n",
        "        num_meas (int): The number of measurements to take\n",
        "\n",
        "    Returns:\n",
        "        np.array[int]: A set of num_meas samples, 0 or 1, chosen according to the probability\n",
        "        distribution defined by the input state.\n",
        "    \"\"\"\n",
        "\n",
        "    ##################\n",
        "    a=(np.abs(state[0]))**2\n",
        "    b=(np.abs(state[1]))**2\n",
        "    return np.random.choice(2,num_meas,p=[a,b])\n",
        "    ##################\n",
        "\n",
        "    # COMPUTE THE MEASUREMENT OUTCOME PROBABILITIES\n",
        "\n",
        "    # RETURN A LIST OF SAMPLE MEASUREMENT OUTCOMES\n",
        "\n",
        "    pass\n"
      ],
      "metadata": {
        "id": "PKtXKPsbkuhN"
      },
      "execution_count": 4,
      "outputs": []
    },
    {
      "cell_type": "code",
      "source": [
        "\"\"\" I.1.4:- Applying a Quantum Operation \"\"\"\n",
        "\n",
        "U = np.array([[1, 1], [1, -1]]) / np.sqrt(2)\n",
        "\n",
        "\n",
        "def apply_u(state):\n",
        "    \"\"\"Apply a quantum operation.\n",
        "\n",
        "    Args:\n",
        "        state (np.array[complex]): A normalized quantum state vector.\n",
        "\n",
        "    Returns:\n",
        "        np.array[complex]: The output state after applying U.\n",
        "    \"\"\"\n",
        "\n",
        "    ##################\n",
        "    A=U @ state\n",
        "    return A\n",
        "    ##################\n",
        "\n",
        "\n",
        "    # APPLY U TO THE INPUT STATE AND RETURN THE NEW STATE\n",
        "    pass"
      ],
      "metadata": {
        "id": "DLgSOKarlFp6"
      },
      "execution_count": 5,
      "outputs": []
    },
    {
      "cell_type": "code",
      "source": [
        "\"\"\" I.1.5:- A simple Quantum Algorithm \"\"\"\n",
        "\n",
        "U = np.array([[1, 1], [1, -1]]) / np.sqrt(2)\n",
        "\n",
        "\n",
        "def initialize_state():\n",
        "    \"\"\"Prepare a qubit in state |0>.\n",
        "\n",
        "    Returns:\n",
        "        np.array[float]: the vector representation of state |0>.\n",
        "    \"\"\"\n",
        "\n",
        "    ##################\n",
        "    # YOUR CODE HERE #\n",
        "    ##################\n",
        "    B=np.array([1,0],dtype=float)\n",
        "    return B\n",
        "\n",
        "    # PREPARE THE STATE |0>\n",
        "    pass\n",
        "\n",
        "\n",
        "def apply_u(state):\n",
        "    \"\"\"Apply a quantum operation.\"\"\"\n",
        "    return np.dot(U, state)\n",
        "\n",
        "\n",
        "def measure_state(state, num_meas):\n",
        "    \"\"\"Measure a quantum state num_meas times.\"\"\"\n",
        "    p_alpha = np.abs(state[0]) ** 2\n",
        "    p_beta = np.abs(state[1]) ** 2\n",
        "    meas_outcome = np.random.choice([0, 1], p=[p_alpha, p_beta], size=num_meas)\n",
        "    return meas_outcome\n",
        "def quantum_algorithm():\n",
        "    \"\"\"Use the functions above to implement the quantum algorithm described above.\n",
        "\n",
        "    Try and do so using three lines of code or less!\n",
        "\n",
        "    Returns:\n",
        "        np.array[int]: the measurement results after running the algorithm 100 times\n",
        "    \"\"\"\n",
        "\n",
        "    ##################\n",
        "    in_state=initialize_state()\n",
        "    n_state=apply_u(in_state)\n",
        "    return measure_state(n_state,100)\n",
        "    ##################\n",
        "\n",
        "\n",
        "    # PREPARE THE STATE, APPLY U, THEN TAKE 100 MEASUREMENT SAMPLES\n",
        "    pass"
      ],
      "metadata": {
        "id": "wm8TtD4KlhaO"
      },
      "execution_count": 6,
      "outputs": []
    },
    {
      "cell_type": "markdown",
      "source": [
        "###**(b)**-- Quantum Circuits\n",
        "\n",
        "Learning Objectives:\n",
        "\n",
        "*   Identify the different components of a quantum circuit (qubits, gates, and measurements).\n",
        "*   Translate between sequences of instructions and a quantum circuit.\n",
        "*   Define and calculate the depth of a quantum circuit.\n",
        "\n",
        "These are the learning objectives posted in the pennylane codebook.\n",
        "\n"
      ],
      "metadata": {
        "id": "cPT7VYwVmLNB"
      }
    },
    {
      "cell_type": "code",
      "source": [
        "\"\"\" I.2.1:- Order of Operations \"\"\""
      ],
      "metadata": {
        "id": "Ra2UPAX1mys5"
      },
      "execution_count": null,
      "outputs": []
    },
    {
      "cell_type": "markdown",
      "source": [
        "![image.png](data:image/png;base64,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)"
      ],
      "metadata": {
        "id": "9dBvFYLJnF54"
      }
    },
    {
      "cell_type": "code",
      "source": [
        "def my_circuit(theta, phi):\n",
        "    ##################\n",
        "    qml.CNOT(wires=[0, 1])\n",
        "    qml.RX(theta, wires=2)\n",
        "    qml.Hadamard(wires=0)\n",
        "    qml.CNOT(wires=[2, 0])\n",
        "    qml.RY(phi, wires=1)\n",
        "    ##################\n",
        "\n",
        "    # REORDER THESE 5 GATES TO MATCH THE CIRCUIT IN THE PICTURE\n",
        "\n",
        "\n",
        "\n",
        "    # This is the measurement; we return the probabilities of all possible output states\n",
        "    # You'll learn more about what types of measurements are available in a later node\n",
        "    return qml.probs(wires=[0, 1, 2])"
      ],
      "metadata": {
        "id": "ufA_Q9uSnMa6"
      },
      "execution_count": null,
      "outputs": []
    },
    {
      "cell_type": "code",
      "source": [
        "\"\"\" I.2.2:- Bulding a Qnode \"\"\""
      ],
      "metadata": {
        "id": "Akiqsm1Rn_SU"
      },
      "execution_count": null,
      "outputs": []
    },
    {
      "cell_type": "markdown",
      "source": [
        "![image.png](data:image/png;base64,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)"
      ],
      "metadata": {
        "id": "nAEF_SOeoFM6"
      }
    },
    {
      "cell_type": "code",
      "source": [
        "# This creates a device with three wires on which PennyLane can run computations\n",
        "dev = qml.device(\"default.qubit\", wires=3)\n",
        "\n",
        "\n",
        "def my_circuit(theta, phi, omega):\n",
        "\n",
        "    ##################\n",
        "    qml.RX(theta, wires=0)\n",
        "    qml.RY(phi,wires=1)\n",
        "    qml.RZ(omega,wires=2)\n",
        "    qml.CNOT(wires=[0, 1])\n",
        "    qml.CNOT(wires=[1,2])\n",
        "    qml.CNOT(wires=[2,0])\n",
        "    ##################\n",
        "\n",
        "    # IMPLEMENT THE CIRCUIT BY ADDING THE GATES\n",
        "\n",
        "    # Here are two examples, so you can see the format:\n",
        "\n",
        "\n",
        "\n",
        "    return qml.probs(wires=[0, 1, 2])\n",
        "\n",
        "\n",
        "# This creates a QNode, binding the function and device\n",
        "my_qnode = qml.QNode(my_circuit, dev)\n",
        "\n",
        "# We set up some values for the input parameters\n",
        "theta, phi, omega = 0.1, 0.2, 0.3\n",
        "\n",
        "# Now we can execute the QNode by calling it like we would a regular function\n",
        "my_qnode(theta, phi, omega)"
      ],
      "metadata": {
        "id": "EF_DdGq9oSvp"
      },
      "execution_count": null,
      "outputs": []
    },
    {
      "cell_type": "code",
      "source": [
        "\"\"\" I.2.3:- The Qnode decorator \"\"\"\n",
        "\n",
        "dev = qml.device(\"default.qubit\", wires=3)\n",
        "\n",
        "##################\n",
        "@qml.qnode(dev)\n",
        "##################\n",
        "\n",
        "# DECORATE THE FUNCTION BELOW TO TURN IT INTO A QNODE\n",
        "\n",
        "\n",
        "def my_circuit(theta, phi, omega):\n",
        "    qml.RX(theta, wires=0)\n",
        "    qml.RY(phi, wires=1)\n",
        "    qml.RZ(omega, wires=2)\n",
        "    qml.CNOT(wires=[0, 1])\n",
        "    qml.CNOT(wires=[1, 2])\n",
        "    qml.CNOT(wires=[2, 0])\n",
        "    return qml.probs(wires=[0, 1, 2])\n",
        "\n",
        "\n",
        "theta, phi, omega = 0.1, 0.2, 0.3\n",
        "\n",
        "##################\n",
        "my_circuit(theta,phi,omega)\n",
        "##################\n",
        "\n",
        "# RUN THE QNODE WITH THE PROVIDED PARAMETERS"
      ],
      "metadata": {
        "id": "q0lPcqHyoawi"
      },
      "execution_count": null,
      "outputs": []
    },
    {
      "cell_type": "code",
      "source": [
        "\"\"\" I.2.4:- Circuit Depth \"\"\""
      ],
      "metadata": {
        "id": "VXWYBQYno0wc"
      },
      "execution_count": null,
      "outputs": []
    },
    {
      "cell_type": "markdown",
      "source": [
        "![image.png](data:image/png;base64,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)"
      ],
      "metadata": {
        "id": "Rrrwm-kko-4Q"
      }
    },
    {
      "cell_type": "code",
      "source": [
        "dev = qml.device(\"default.qubit\", wires=3)\n",
        "\n",
        "\n",
        "@qml.qnode(dev)\n",
        "def my_circuit(theta, phi, omega):\n",
        "    qml.RX(theta, wires=0)\n",
        "    qml.RY(phi, wires=1)\n",
        "    qml.RZ(omega, wires=2)\n",
        "    qml.CNOT(wires=[0, 1])\n",
        "    qml.CNOT(wires=[1, 2])\n",
        "    qml.CNOT(wires=[2, 0])\n",
        "    return qml.probs(wires=[0, 1, 2])\n",
        "\n",
        "\n",
        "##################\n",
        "depth = 4\n",
        "##################\n",
        "\n",
        "# FILL IN THE CORRECT CIRCUIT DEPTH"
      ],
      "metadata": {
        "id": "Nkdf1E9dpBKx"
      },
      "execution_count": null,
      "outputs": []
    },
    {
      "cell_type": "markdown",
      "source": [
        "###(c)-- Unitary Matrices\n",
        "\n",
        "Learning Objectives:\n",
        "\n",
        "*   Define what it means for a matrix to be unitary.\n",
        "*   Express a single-qubit unitary operation in terms of 3 real parameters.\n",
        "\n",
        "These are the learning objectives posted in the pennylane codebook.\n",
        "\n"
      ],
      "metadata": {
        "id": "2N37iLBcpUUF"
      }
    },
    {
      "cell_type": "code",
      "source": [
        "\"\"\" I.3.1:- Unitaries in Pennylane \"\"\"\n",
        "\n",
        "dev = qml.device(\"default.qubit\", wires=1)\n",
        "\n",
        "U = np.array([[1, 1], [1, -1]]) / np.sqrt(2)\n",
        "\n",
        "\n",
        "@qml.qnode(dev)\n",
        "def apply_u():\n",
        "\n",
        "    ##################\n",
        "    qml.QubitUnitary(U, wires=0)\n",
        "    ##################\n",
        "\n",
        "\n",
        "    # USE QubitUnitary TO APPLY U TO THE QUBIT\n",
        "\n",
        "    # Return the state\n",
        "    return qml.state()"
      ],
      "metadata": {
        "id": "KWFGSnK-ppwM"
      },
      "execution_count": null,
      "outputs": []
    },
    {
      "cell_type": "code",
      "source": [
        "\"\"\" I.3.2:- Parametrized Unitaries \"\"\"\n",
        "\n",
        "dev = qml.device(\"default.qubit\", wires=1)\n",
        "\n",
        "\n",
        "@qml.qnode(dev)\n",
        "def apply_u_as_rot(phi, theta, omega):\n",
        "\n",
        "    ##################\n",
        "    qml.Rot(phi,theta,omega, wires=0)\n",
        "    ##################\n",
        "\n",
        "    # APPLY A ROT GATE USING THE PROVIDED INPUT PARAMETERS\n",
        "\n",
        "    # RETURN THE QUANTUM STATE VECTOR\n",
        "\n",
        "    return qml.state()"
      ],
      "metadata": {
        "id": "xFZYb9IXp4hN"
      },
      "execution_count": null,
      "outputs": []
    },
    {
      "cell_type": "markdown",
      "source": [
        "##2. Single Qubit Gates"
      ],
      "metadata": {
        "id": "XGvVPP51qV6E"
      }
    },
    {
      "cell_type": "markdown",
      "source": [
        "###**(a)**-- X and H\n",
        "\n",
        "Learning Objectives:\n",
        "\n",
        "*   Explain why we can understand how an operation works by applying it to the basis states.\n",
        "*   Describe the action of the X gate, its matrix representation, and eigenvalues.\n",
        "*   Describe the action of the Hadamard gate, its matrix representation, and eigenvalues.\n",
        "\n",
        "These are the learning objectives posted in the pennylane codebook.\n",
        "\n"
      ],
      "metadata": {
        "id": "drgvnddfqrh_"
      }
    },
    {
      "cell_type": "code",
      "source": [
        "\"\"\" I.4.1:- Flipping Bits \"\"\"\n",
        "\n",
        "dev = qml.device(\"default.qubit\", wires=1)\n",
        "\n",
        "U = np.array([[1, 1], [1, -1]]) / np.sqrt(2)\n",
        "\n",
        "\n",
        "@qml.qnode(dev)\n",
        "def varied_initial_state(state):\n",
        "    \"\"\"Complete the function such that we can apply the operation U to\n",
        "    either |0> or |1> depending on the input argument flag.\n",
        "\n",
        "    Args:\n",
        "        state (int): Either 0 or 1. If 1, prepare the qubit in state |1>,\n",
        "            otherwise, leave it in state 0.\n",
        "\n",
        "    Returns:\n",
        "        np.array[complex]: The state of the qubit after the operations.\n",
        "    \"\"\"\n",
        "    ##################\n",
        "    if state==1:\n",
        "        qml.PauliX(wires=0)\n",
        "    ##################\n",
        "\n",
        "\n",
        "\n",
        "    qml.QubitUnitary(U,wires=0)\n",
        "\n",
        "    # KEEP THE QUBIT IN |0> OR CHANGE IT TO |1> DEPENDING ON THE state PARAMETER\n",
        "\n",
        "    # APPLY U TO THE STATE\n",
        "\n",
        "    return qml.state()"
      ],
      "metadata": {
        "id": "-4zrIveSrUV8"
      },
      "execution_count": null,
      "outputs": []
    },
    {
      "cell_type": "code",
      "source": [
        "\"\"\" I.4.2:- Uniform Superposition \"\"\"\n",
        "\n",
        "dev = qml.device(\"default.qubit\", wires=1)\n",
        "\n",
        "\n",
        "@qml.qnode(dev)\n",
        "def apply_hadamard():\n",
        "    ##################\n",
        "    qml.Hadamard(wires=0)\n",
        "    ##################\n",
        "\n",
        "    # APPLY THE HADAMARD GATE\n",
        "\n",
        "    # RETURN THE STATE\n",
        "    return qml.state()"
      ],
      "metadata": {
        "id": "I08tQJVKrkw4"
      },
      "execution_count": null,
      "outputs": []
    },
    {
      "cell_type": "code",
      "source": [
        "\"\"\" I.4.3:- Combining X and H \"\"\"\n",
        "\n",
        "dev = qml.device(\"default.qubit\", wires=1)\n",
        "\n",
        "\n",
        "@qml.qnode(dev)\n",
        "def apply_hadamard_to_state(state):\n",
        "    \"\"\"Complete the function such that we can apply the Hadamard to\n",
        "    either |0> or |1> depending on the input argument flag.\n",
        "\n",
        "    Args:\n",
        "        state (int): Either 0 or 1. If 1, prepare the qubit in state |1>,\n",
        "            otherwise, leave it in state 0.\n",
        "\n",
        "    Returns:\n",
        "        np.array[complex]: The state of the qubit after the operations.\n",
        "    \"\"\"\n",
        "    ##################\n",
        "    if state==1:\n",
        "        qml.PauliX(wires=0)\n",
        "    qml.Hadamard(wires=0)\n",
        "    ##################\n",
        "\n",
        "\n",
        "    # KEEP THE QUBIT IN |0> OR CHANGE IT TO |1> DEPENDING ON state\n",
        "\n",
        "    # APPLY THE HADAMARD\n",
        "\n",
        "    # RETURN THE STATE\n",
        "\n",
        "    return qml.state()\n",
        "\n",
        "\n",
        "print(apply_hadamard_to_state(0))\n",
        "print(apply_hadamard_to_state(1))"
      ],
      "metadata": {
        "id": "4JtN0F2Cr15G"
      },
      "execution_count": null,
      "outputs": []
    },
    {
      "cell_type": "markdown",
      "source": [
        "Output\n",
        "```\n",
        "[0.70710678+0.j 0.70710678+0.j]\n",
        "[ 0.70710678+0.j -0.70710678+0.j]\n",
        "\n",
        "```\n",
        "\n"
      ],
      "metadata": {
        "id": "U_Eyt3SxsP9d"
      }
    },
    {
      "cell_type": "code",
      "source": [
        "\"\"\" I.4.4:- A Qnode with X and H \"\"\""
      ],
      "metadata": {
        "id": "ixNpXPCPshyi"
      },
      "execution_count": null,
      "outputs": []
    },
    {
      "cell_type": "markdown",
      "source": [
        "![image.png](data:image/png;base64,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)"
      ],
      "metadata": {
        "id": "72OY76U6tJlR"
      }
    },
    {
      "cell_type": "code",
      "source": [
        "##################\n",
        "dev=  qml.device(\"default.qubit\", wires=1)\n",
        "\n",
        "@qml.qnode(dev)\n",
        "def apply_hxh(state):\n",
        "    if state==1:\n",
        "        qml.PauliX(wires=0)\n",
        "\n",
        "    qml.Hadamard(wires=0)\n",
        "    qml.PauliX(wires=0)\n",
        "    qml.Hadamard(wires=0)\n",
        "    return qml.state()\n",
        "##################\n",
        "\n",
        "# CREATE A DEVICE\n",
        "\n",
        "# CREATE A QNODE CALLED apply_hxh THAT APPLIES THE CIRCUIT ABOVE\n",
        "\n",
        "# Print your results\n",
        "print(apply_hxh(0))\n",
        "print(apply_hxh(1))"
      ],
      "metadata": {
        "id": "6za-RikRtLjn"
      },
      "execution_count": null,
      "outputs": []
    },
    {
      "cell_type": "markdown",
      "source": [
        "Output\n",
        "```\n",
        "[1.+0.j 0.+0.j]\n",
        "[ 0.+0.j -1.+0.j]\n",
        "```\n",
        "\n"
      ],
      "metadata": {
        "id": "tVDtoH5jtXSg"
      }
    },
    {
      "cell_type": "markdown",
      "source": [
        "###**(b)**-- It's just a Phase\n",
        "\n",
        "Learning Objectives:\n",
        "\n",
        "*   Distinguish between global and relative phases.\n",
        "*   Describe the action of the RZ gate and its matrix representation.\n",
        "*   Identify 3 special cases of RZ.\n",
        "\n",
        "These are the learning objectives posted in the pennylane codebook.\n",
        "\n",
        "\n"
      ],
      "metadata": {
        "id": "AEzfeZGOtdnX"
      }
    },
    {
      "cell_type": "code",
      "source": [
        "\"\"\" I.5.1:- The Pauli Z Gate \"\"\"\n",
        "\n",
        "dev = qml.device(\"default.qubit\", wires=1)\n",
        "\n",
        "\n",
        "@qml.qnode(dev)\n",
        "def apply_z_to_plus():\n",
        "    \"\"\"Write a circuit that applies PauliZ to the |+> state and returns\n",
        "    the state.\n",
        "\n",
        "    Returns:\n",
        "        np.array[complex]: The state of the qubit after the operations.\n",
        "    \"\"\"\n",
        "\n",
        "    ##################\n",
        "    qml.Hadamard(wires=0)\n",
        "    qml.PauliZ(wires=0)\n",
        "    ##################\n",
        "\n",
        "\n",
        "    # CREATE THE |+> STATE\n",
        "\n",
        "    # APPLY PAULI Z\n",
        "\n",
        "    # RETURN THE STATE\n",
        "    return qml.state()\n",
        "\n",
        "\n",
        "print(apply_z_to_plus())"
      ],
      "metadata": {
        "id": "RjauY2v2B08N"
      },
      "execution_count": null,
      "outputs": []
    },
    {
      "cell_type": "code",
      "source": [
        "\"\"\" I.5.2:- The Z Rotation \"\"\"\n",
        "\n",
        "dev = qml.device(\"default.qubit\", wires=1)\n",
        "\n",
        "omega=np.pi\n",
        "@qml.qnode(dev)\n",
        "def fake_z():\n",
        "    \"\"\"Use RZ to produce the same action as Pauli Z on the |+> state.\n",
        "\n",
        "    Returns:\n",
        "        np.array[complex]: The state of the qubit after the operations.\n",
        "    \"\"\"\n",
        "\n",
        "    ##################\n",
        "    qml.Hadamard(wires=0)\n",
        "    qml.RZ(omega,wires=0)\n",
        "    ##################\n",
        "\n",
        "    # CREATE THE |+> STATE\n",
        "\n",
        "    # APPLY RZ\n",
        "\n",
        "    # RETURN THE STATE\n",
        "    return qml.state()"
      ],
      "metadata": {
        "id": "E-es_u2QCG_U"
      },
      "execution_count": null,
      "outputs": []
    },
    {
      "cell_type": "code",
      "source": [
        "\"\"\" I.5.3:- The S and T Gates \"\"\""
      ],
      "metadata": {
        "id": "bkonF3QYCS-q"
      },
      "execution_count": null,
      "outputs": []
    },
    {
      "cell_type": "markdown",
      "source": [
        "![image.png](data:image/png;base64,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)"
      ],
      "metadata": {
        "id": "6UOn2WDwCeYQ"
      }
    },
    {
      "cell_type": "code",
      "source": [
        "dev = qml.device(\"default.qubit\", wires=1)\n",
        "\n",
        "\n",
        "@qml.qnode(dev)\n",
        "def many_rotations():\n",
        "    \"\"\"Implement the circuit depicted above and return the quantum state.\n",
        "\n",
        "    Returns:\n",
        "        np.array[complex]: The state of the qubit after the operations.\n",
        "    \"\"\"\n",
        "\n",
        "    ##################\n",
        "    qml.Hadamard(wires=0)\n",
        "    qml.S(wires=0)\n",
        "    qml.adjoint(qml.T)(wires=0)\n",
        "    qml.RZ(0.3, wires=0)\n",
        "    qml.adjoint(qml.S)(wires=0)\n",
        "    ##################\n",
        "\n",
        "    # IMPLEMENT THE CIRCUIT\n",
        "\n",
        "    # RETURN THE STATE\n",
        "\n",
        "    return qml.state()\n"
      ],
      "metadata": {
        "id": "WHr4gdlxCw2j"
      },
      "execution_count": null,
      "outputs": []
    },
    {
      "cell_type": "markdown",
      "source": [
        "###**(c)**-- From a different angle\n",
        "\n",
        "Learning Objectives:\n",
        "\n",
        "*   Describe the action of the RX gate and its matrix representation.\n",
        "*   Describe the action of the RY gate and its matrix representation.\n",
        "*   Represent qubit states in 3-dimensional space using the Bloch sphere.\n",
        "\n",
        "\n",
        "These are the learning objectives posted in the pennylane codebook.\n",
        "\n"
      ],
      "metadata": {
        "id": "7pn7NOSJDZKU"
      }
    },
    {
      "cell_type": "code",
      "source": [
        "\"\"\" I.6.1:- Applying RX \"\"\"\n",
        "\n",
        "dev = qml.device(\"default.qubit\", wires=1)\n",
        "\n",
        "\n",
        "@qml.qnode(dev)\n",
        "def apply_rx_pi(state):\n",
        "    \"\"\"Apply an RX gate with an angle of \\pi to a particular basis state.\n",
        "\n",
        "    Args:\n",
        "        state (int): Either 0 or 1. If 1, initialize the qubit to state |1>\n",
        "            before applying other operations.\n",
        "\n",
        "    Returns:\n",
        "        np.array[complex]: The state of the qubit after the operations.\n",
        "    \"\"\"\n",
        "    if state == 1:\n",
        "        qml.PauliX(wires=0)\n",
        "\n",
        "    ##################\n",
        "    qml.RX(np.pi,wires=0)\n",
        "    ##################\n",
        "\n",
        "    # APPLY RX(pi) AND RETURN THE STATE\n",
        "\n",
        "    return qml.state()\n",
        "\n",
        "\n",
        "print(apply_rx_pi(0))\n",
        "print(apply_rx_pi(1))"
      ],
      "metadata": {
        "id": "8Sx1JNB8C5MX"
      },
      "execution_count": null,
      "outputs": []
    },
    {
      "cell_type": "markdown",
      "source": [
        "Output\n",
        "\n",
        "\n",
        "```\n",
        "[6.123234e-17+0.j 0.000000e+00-1.j]\n",
        "[0.000000e+00-1.j 6.123234e-17+0.j]\n",
        "```\n",
        "\n"
      ],
      "metadata": {
        "id": "kb815pgjEXVw"
      }
    },
    {
      "cell_type": "code",
      "source": [
        "\"\"\" I.6.2:- Plotting RX \"\"\"\n",
        "\n",
        "dev = qml.device(\"default.qubit\", wires=1)\n",
        "\n",
        "\n",
        "@qml.qnode(dev)\n",
        "def apply_rx(theta, state):\n",
        "    \"\"\"Apply an RX gate with an angle of theta to a particular basis state.\n",
        "\n",
        "    Args:\n",
        "        theta (float): A rotation angle.\n",
        "        state (int): Either 0 or 1. If 1, initialize the qubit to state |1>\n",
        "            before applying other operations.\n",
        "\n",
        "    Returns:\n",
        "        np.array[complex]: The state of the qubit after the operations.\n",
        "    \"\"\"\n",
        "    if state == 1:\n",
        "        qml.PauliX(wires=0)\n",
        "\n",
        "    ##################\n",
        "    qml.RX(theta,wires=0)\n",
        "    ##################\n",
        "\n",
        "    # APPLY RX(theta) AND RETURN THE STATE\n",
        "\n",
        "    return qml.state()\n",
        "\n",
        "\n",
        "# Code for plotting\n",
        "angles = np.linspace(0, 4 * np.pi, 200)\n",
        "output_states = np.array([apply_rx(t, 0) for t in angles])\n",
        "\n",
        "plot = plotter(angles, output_states)"
      ],
      "metadata": {
        "id": "mLwZoDAEEb9F"
      },
      "execution_count": null,
      "outputs": []
    },
    {
      "cell_type": "markdown",
      "source": [
        "![image.png](data:image/png;base64,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)"
      ],
      "metadata": {
        "id": "weauC437E13d"
      }
    },
    {
      "cell_type": "code",
      "source": [
        "\"\"\" I.6.3:- Plotting RY \"\"\"\n",
        "\n",
        "dev = qml.device(\"default.qubit\", wires=1)\n",
        "\n",
        "\n",
        "@qml.qnode(dev)\n",
        "def apply_ry(theta, state):\n",
        "    \"\"\"Apply an RY gate with an angle of theta to a particular basis state.\n",
        "\n",
        "    Args:\n",
        "        theta (float): A rotation angle.\n",
        "        state (int): Either 0 or 1. If 1, initialize the qubit to state |1>\n",
        "            before applying other operations.\n",
        "\n",
        "    Returns:\n",
        "        np.array[complex]: The state of the qubit after the operations.\n",
        "    \"\"\"\n",
        "    if state == 1:\n",
        "        qml.PauliX(wires=0)\n",
        "\n",
        "    ##################\n",
        "    qml.RY(theta,wires=0)\n",
        "    ##################\n",
        "\n",
        "    # APPLY RY(theta) AND RETURN THE STATE\n",
        "\n",
        "    return qml.state()\n",
        "\n",
        "\n",
        "# Code for plotting\n",
        "angles = np.linspace(0, 4 * np.pi, 200)\n",
        "output_states = np.array([apply_ry(t, 0) for t in angles])\n",
        "\n",
        "plot = plotter(angles, output_states)"
      ],
      "metadata": {
        "id": "51s92MC_E9ek"
      },
      "execution_count": null,
      "outputs": []
    },
    {
      "cell_type": "markdown",
      "source": [
        "![image.png](data:image/png;base64,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)"
      ],
      "metadata": {
        "id": "sj-8L9IOFNFy"
      }
    },
    {
      "cell_type": "markdown",
      "source": [
        "###**(d)**-- Universal Gate Sets\n",
        "\n",
        "Learning Objectives:\n",
        "\n",
        "*   Define what it means for a gate set to be universal for quantum computing.\n",
        "*   State two universal gate sets for single-qubit quantum computation.\n",
        "\n",
        "These are the learning objectives posted in the pennylane codebook.\n",
        "\n"
      ],
      "metadata": {
        "id": "7yUTQ2CJFPsk"
      }
    },
    {
      "cell_type": "code",
      "source": [
        "\"\"\" I.7.1:- Universality of Rotation \"\"\"\n",
        "\n",
        "dev = qml.device(\"default.qubit\", wires=1)\n",
        "\n",
        "##################\n",
        "phi, theta, omega = np.pi/2, np.pi/2, np.pi/2\n",
        "##################\n",
        "\n",
        "# ADJUST THE VALUES OF PHI, THETA, AND OMEGA\n",
        "\n",
        "\n",
        "@qml.qnode(dev)\n",
        "def hadamard_with_rz_rx():\n",
        "    qml.RZ(phi, wires=0)\n",
        "    qml.RX(theta, wires=0)\n",
        "    qml.RZ(omega, wires=0)\n",
        "    return qml.state()"
      ],
      "metadata": {
        "id": "lKexvto2FuUV"
      },
      "execution_count": null,
      "outputs": []
    },
    {
      "cell_type": "code",
      "source": [
        "\"\"\" I.7.2:- Synthesizing a Circuit \"\"\""
      ],
      "metadata": {
        "id": "KujwUKVIGDcl"
      },
      "execution_count": null,
      "outputs": []
    },
    {
      "cell_type": "markdown",
      "source": [
        "![image.png](data:image/png;base64,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)"
      ],
      "metadata": {
        "id": "924q8bUgGOI7"
      }
    },
    {
      "cell_type": "code",
      "source": [
        "dev = qml.device(\"default.qubit\", wires=1)\n",
        "\n",
        "\n",
        "@qml.qnode(dev)\n",
        "def convert_to_rz_rx():\n",
        "    ##################\n",
        "    qml.RZ(np.pi/2, wires=0)\n",
        "    qml.RX(np.pi/2, wires=0)\n",
        "    qml.RZ(7*np.pi/4, wires=0)\n",
        "    qml.RX(np.pi,wires=0)\n",
        "    ##################\n",
        "\n",
        "    # IMPLEMENT THE CIRCUIT IN THE PICTURE USING ONLY RZ AND RX\n",
        "\n",
        "    return qml.state()"
      ],
      "metadata": {
        "id": "Qn3TfmEuGZcO"
      },
      "execution_count": null,
      "outputs": []
    },
    {
      "cell_type": "code",
      "source": [
        "\"\"\" I.7.3:- Universality of H and T \"\"\"\n",
        "\n",
        "dev = qml.device(\"default.qubit\", wires=1)\n",
        "\n",
        "\n",
        "@qml.qnode(dev)\n",
        "def unitary_with_h_and_t():\n",
        "    ##################\n",
        "    qml.Hadamard(wires=0)\n",
        "    qml.T(wires=0)\n",
        "    qml.Hadamard(wires=0)\n",
        "    qml.T(wires=0)\n",
        "    qml.T(wires=0)\n",
        "    qml.Hadamard(wires=0)\n",
        "    ##################\n",
        "\n",
        "\n",
        "    # APPLY ONLY H AND T TO PRODUCE A CIRCUIT THAT EFFECTS THE GIVEN MATRIX\n",
        "\n",
        "    return qml.state()"
      ],
      "metadata": {
        "id": "itBZj6sFGhIP"
      },
      "execution_count": null,
      "outputs": []
    },
    {
      "cell_type": "markdown",
      "source": [
        "###**(e)**-- Prepare yourself\n",
        "\n",
        "Learning Objectives:\n",
        "\n",
        "*   Use this as a reference for all you've learned.\n",
        "*   Combine gates to prepare specific quantum states.\n",
        "\n",
        "These are the learning objectives posted in the pennylane codebook."
      ],
      "metadata": {
        "id": "pfpszAsBGyJe"
      }
    },
    {
      "cell_type": "code",
      "source": [
        "\"\"\" I.8.1:- State Preparation \"\"\"\n",
        "\n",
        "dev = qml.device(\"default.qubit\", wires=1)\n",
        "\n",
        "\n",
        "@qml.qnode(dev)\n",
        "def prepare_state():\n",
        "    ##################\n",
        "    qml.Hadamard(wires=0)\n",
        "    qml.T(wires=0)\n",
        "    qml.RZ(np.pi,wires=0)\n",
        "    ##################\n",
        "\n",
        "\n",
        "    # APPLY OPERATIONS TO PREPARE THE TARGET STATE\n",
        "\n",
        "    return qml.state()"
      ],
      "metadata": {
        "id": "yBZxJhH-HYaE"
      },
      "execution_count": null,
      "outputs": []
    },
    {
      "cell_type": "code",
      "source": [
        "\"\"\" I.8.2:- State Prepartion Revisited \"\"\"\n",
        "\n",
        "dev = qml.device(\"default.qubit\", wires=1)\n",
        "\n",
        "\n",
        "@qml.qnode(dev)\n",
        "def prepare_state():\n",
        "    ##################\n",
        "    qml.RX(np.pi/3,wires=0)\n",
        "    ##################\n",
        "\n",
        "\n",
        "    # APPLY OPERATIONS TO PREPARE THE TARGET STATE\n",
        "\n",
        "    return qml.state()"
      ],
      "metadata": {
        "id": "hLQrYrssH4yp"
      },
      "execution_count": null,
      "outputs": []
    },
    {
      "cell_type": "code",
      "source": [
        "\"\"\" I.8.3:- State Prepation with Motten's Method \"\"\"\n",
        "\n",
        "v = np.array([0.52889389 - 0.14956775j, 0.67262317 + 0.49545818j])\n",
        "\n",
        "##################\n",
        "dev=qml.device(\"default.qubit\",wires=1)\n",
        "@qml.qnode(dev)\n",
        "def prepare_state(state=v):\n",
        "    qml.MottonenStatePreparation(v,wires=range(1))\n",
        "    return qml.state()\n",
        "##################\n",
        "\n",
        "# CREATE A DEVICE\n",
        "\n",
        "\n",
        "# CONSTRUCT A QNODE THAT USES qml.MottonenStatePreparation\n",
        "# TO PREPARE A QUBIT IN STATE V, AND RETURN THE STATE\n",
        "\n",
        "\n",
        "\n",
        "# This will draw the quantum circuit and allow you to inspect the output gates\n",
        "print(prepare_state(v))\n",
        "print()\n",
        "print(qml.draw(prepare_state, expansion_strategy=\"device\")(v))"
      ],
      "metadata": {
        "id": "VwiKqs9NIQ27"
      },
      "execution_count": null,
      "outputs": []
    },
    {
      "cell_type": "markdown",
      "source": [
        "Output\n",
        "\n",
        "\n",
        "```\n",
        "[0.52889389-0.14956775j 0.67262317+0.49545818j]\n",
        "\n",
        "0: ──RY(1.98)──RZ(0.91)──GlobalPhase(-0.18)─┤  State\n",
        "```\n",
        "\n"
      ],
      "metadata": {
        "id": "qXU5PGKhI70h"
      }
    },
    {
      "cell_type": "markdown",
      "source": [
        "###**(f)**-- Measurements\n",
        "\n",
        "Learning Objectives:\n",
        "\n",
        "*   Define a projective measurement.\n",
        "*   Perform a projective measurement in the computational basis.\n",
        "*   Perform measurements in an alternative measurement basis.\n",
        "\n",
        "These are the learning objectives posted in the pennylane codebook.\n",
        "\n",
        "\n"
      ],
      "metadata": {
        "id": "UClOatJOJC33"
      }
    },
    {
      "cell_type": "code",
      "source": [
        "\"\"\" I.9.1:- Measuring a superposition \"\"\"\n",
        "\n",
        "@qml.qnode(dev)\n",
        "def apply_h_and_measure(state):\n",
        "    \"\"\"Complete the function such that we apply the Hadamard gate\n",
        "    and measure in the computational basis.\n",
        "\n",
        "    Args:\n",
        "        state (int): Either 0 or 1. If 1, prepare the qubit in state |1>,\n",
        "            otherwise leave it in state 0.\n",
        "\n",
        "    Returns:\n",
        "        np.array[float]: The measurement outcome probabilities.\n",
        "    \"\"\"\n",
        "    if state == 1:\n",
        "        qml.PauliX(wires=0)\n",
        "\n",
        "    ##################\n",
        "    qml.Hadamard(wires=0)\n",
        "    ##################\n",
        "\n",
        "\n",
        "    # APPLY HADAMARD AND MEASURE\n",
        "\n",
        "    return qml.probs(wires=[0])\n",
        "\n",
        "\n",
        "print(apply_h_and_measure(0))\n",
        "print(apply_h_and_measure(1))"
      ],
      "metadata": {
        "id": "E1AmH3RUK88l"
      },
      "execution_count": null,
      "outputs": []
    },
    {
      "cell_type": "markdown",
      "source": [
        "Output\n",
        "\n",
        "```\n",
        "[0.5 0.5]\n",
        "[0.5 0.5]\n",
        "```\n",
        "\n"
      ],
      "metadata": {
        "id": "rJFXfCutLpdq"
      }
    },
    {
      "cell_type": "code",
      "source": [
        "\"\"\" I.9.2:- Y basis Rotation \"\"\"\n",
        "\n",
        "##################\n",
        "def prepare_psi():\n",
        "    qml.RX(-2*np.pi/3,wires=0)\n",
        "    pass\n",
        "\n",
        "def y_basis_rotation():\n",
        "    qml.Hadamard(wires=0)\n",
        "    qml.S(wires=0)\n",
        "    pass\n",
        "##################\n",
        "\n",
        "# WRITE A QUANTUM FUNCTION THAT PREPARES (1/2)|0> + i(sqrt(3)/2)|1>\n",
        "\n",
        "# WRITE A QUANTUM FUNCTION THAT SENDS BOTH |0> TO |y_+> and |1> TO |y_->"
      ],
      "metadata": {
        "id": "RN_kUrcMMQw-"
      },
      "execution_count": null,
      "outputs": []
    },
    {
      "cell_type": "code",
      "source": [
        "\"\"\" I.9.3:- Measurement in the Y Basis \"\"\"\n",
        "\n",
        "dev = qml.device(\"default.qubit\", wires=1)\n",
        "\n",
        "\n",
        "@qml.qnode(dev)\n",
        "def measure_in_y_basis():\n",
        "    ##################\n",
        "    prepare_psi()\n",
        "    qml.adjoint(y_basis_rotation)()\n",
        "\n",
        "    return qml.probs(wires=[0])\n",
        "    ##################\n",
        "\n",
        "\n",
        "    # PREPARE THE STATE\n",
        "\n",
        "    # PERFORM THE ROTATION BACK TO COMPUTATIONAL BASIS\n",
        "\n",
        "    # RETURN THE MEASUREMENT OUTCOME PROBABILITIES\n",
        "\n",
        "\n",
        "print(measure_in_y_basis())"
      ],
      "metadata": {
        "id": "B6DLySauNWrL"
      },
      "execution_count": null,
      "outputs": []
    },
    {
      "cell_type": "markdown",
      "source": [
        "Output\n",
        "\n",
        "```\n",
        "[0.9330127 0.0669873]\n",
        "```\n",
        "\n"
      ],
      "metadata": {
        "id": "SZKTVz54NlQc"
      }
    },
    {
      "cell_type": "markdown",
      "source": [
        "###**(g)**-- What did you Expect?\n",
        "\n",
        "Learning Objectives:\n",
        "\n",
        "*   Define an observable, and compute its possible measurement outcomes.\n",
        "*   Compute the expectation value of an observable.\n",
        "\n",
        "These are the learning objectives posted in the pennylane codebook.\n"
      ],
      "metadata": {
        "id": "qNXVWZ3SN5l9"
      }
    },
    {
      "cell_type": "code",
      "source": [
        "\"\"\" I.10.1:- Measurement of PauliY observable \"\"\""
      ],
      "metadata": {
        "id": "9C-jycqiOLMS"
      },
      "execution_count": null,
      "outputs": []
    },
    {
      "cell_type": "markdown",
      "source": [
        "![image.png](data:image/png;base64,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)"
      ],
      "metadata": {
        "id": "s8Dimo-OObvD"
      }
    },
    {
      "cell_type": "code",
      "source": [
        "dev = qml.device(\"default.qubit\", wires=1)\n",
        "\n",
        "\n",
        "@qml.qnode(dev)\n",
        "def circuit():\n",
        "    ##################\n",
        "    qml.RX(np.pi/4,wires=0)\n",
        "    qml.Hadamard(wires=0)\n",
        "    qml.PauliZ(wires=0)\n",
        "    ##################\n",
        "\n",
        "\n",
        "    # IMPLEMENT THE CIRCUIT IN THE PICTURE AND MEASURE PAULI Y\n",
        "\n",
        "    return qml.expval(qml.PauliY(0))\n",
        "\n",
        "\n",
        "print(circuit())"
      ],
      "metadata": {
        "id": "WrsBybF0OdqO"
      },
      "execution_count": null,
      "outputs": []
    },
    {
      "cell_type": "markdown",
      "source": [
        "Output\n",
        "\n",
        "```\n",
        "-0.7071067811865471\n",
        "```\n",
        "\n"
      ],
      "metadata": {
        "id": "7zlxGO4COmeT"
      }
    },
    {
      "cell_type": "code",
      "source": [
        "\"\"\" I.10.2:- Setting of the number of experiment shots \"\"\"\n",
        "\n",
        "# An array to store your results\n",
        "shot_results = []\n",
        "\n",
        "# Different numbers of shots\n",
        "shot_values = [100, 1000, 10000, 100000, 1000000]\n",
        "\n",
        "for shots in shot_values:\n",
        "    ##################\n",
        "    dev = qml.device(\"default.qubit\", wires=1,shots=shots)\n",
        "    @qml.qnode(dev)\n",
        "    def circuit():\n",
        "        qml.RX(np.pi/4,wires=0)\n",
        "        qml.Hadamard(wires=0)\n",
        "        qml.PauliZ(wires=0)\n",
        "        return qml.expval(qml.PauliY(0))\n",
        "    shot_results.append(circuit())\n",
        "    ##################\n",
        "\n",
        "\n",
        "    # CREATE A DEVICE, CREATE A QNODE, AND RUN IT\n",
        "\n",
        "    # STORE RESULT IN SHOT_RESULTS ARRAY\n",
        "    pass\n",
        "\n",
        "print(qml.math.unwrap(shot_results))"
      ],
      "metadata": {
        "id": "N5zdsaziOs9J"
      },
      "execution_count": null,
      "outputs": []
    },
    {
      "cell_type": "markdown",
      "source": [
        "Output\n",
        "\n",
        "```\n",
        "[-0.8, -0.678, -0.7028, -0.70578, -0.707068]\n",
        "```\n",
        "\n"
      ],
      "metadata": {
        "id": "VWPNd1n3SRtJ"
      }
    },
    {
      "cell_type": "code",
      "source": [
        "\"\"\" I.10.3:- Evaluating the Samples \"\"\"\n",
        "\n",
        "dev = qml.device(\"default.qubit\", wires=1, shots=100000)\n",
        "\n",
        "\n",
        "@qml.qnode(dev)\n",
        "def circuit():\n",
        "    qml.RX(np.pi / 4, wires=0)\n",
        "    qml.Hadamard(wires=0)\n",
        "    qml.PauliZ(wires=0)\n",
        "\n",
        "    ##################\n",
        "    return qml.sample(qml.PauliY(wires=0))\n",
        "    ##################\n",
        "\n",
        "    # RETURN THE MEASUREMENT SAMPLES OF THE CORRECT OBSERVABLE\n",
        "\n",
        "\n",
        "\n",
        "def compute_expval_from_samples(samples):\n",
        "    \"\"\"Compute the expectation value of an observable given a set of\n",
        "    sample outputs. You can assume that there are two possible outcomes,\n",
        "    1 and -1.\n",
        "\n",
        "    Args:\n",
        "        samples (np.array[float]): 100000 samples representing the results of\n",
        "            running the above circuit.\n",
        "\n",
        "    Returns:\n",
        "        float: the expectation value computed based on samples.\n",
        "    \"\"\"\n",
        "\n",
        "\n",
        "    ##################\n",
        "    estimated_expval = 0\n",
        "    num_p_one=0\n",
        "    num_m_one=0\n",
        "\n",
        "    for val in samples:\n",
        "        if val==1:\n",
        "            num_p_one +=1\n",
        "        else:\n",
        "            num_m_one +=1\n",
        "    estimated_expval=(num_p_one-num_m_one)/len(samples)\n",
        "    ##################\n",
        "\n",
        "    # USE THE SAMPLES TO ESTIMATE THE EXPECTATION VALUE\n",
        "\n",
        "    return estimated_expval\n",
        "\n",
        "\n",
        "samples = circuit()\n",
        "print(compute_expval_from_samples(samples))"
      ],
      "metadata": {
        "id": "Wb_DP46tSh4Q"
      },
      "execution_count": null,
      "outputs": []
    },
    {
      "cell_type": "markdown",
      "source": [
        "Output\n",
        "\n",
        "```\n",
        "-0.70562\n",
        "```\n",
        "\n"
      ],
      "metadata": {
        "id": "JF5dmZUSTNXx"
      }
    },
    {
      "cell_type": "code",
      "source": [
        "\"\"\" I.10.4:- The variance of Sample measurements \"\"\"\n",
        "\n",
        "def variance_experiment(n_shots):\n",
        "    \"\"\"Run an experiment to determine the variance in an expectation\n",
        "    value computed with a given number of shots.\n",
        "\n",
        "    Args:\n",
        "        n_shots (int): The number of shots\n",
        "\n",
        "    Returns:\n",
        "        float: The variance in expectation value we obtain running the\n",
        "        circuit 100 times with n_shots shots each.\n",
        "    \"\"\"\n",
        "\n",
        "    # To obtain a variance, we run the circuit multiple times at each shot value.\n",
        "    n_trials = 100\n",
        "\n",
        "    ##################\n",
        "    dev = qml.device(\"default.qubit\", wires=1, shots=n_shots)\n",
        "    @qml.qnode(dev)\n",
        "    def circuit():\n",
        "        qml.Hadamard(wires=0)\n",
        "        return qml.expval(qml.PauliZ(wires=0))\n",
        "\n",
        "    var_list=[]\n",
        "    for trial in range (n_trials):\n",
        "        var_list.append(circuit())\n",
        "    ##################\n",
        "\n",
        "    # CREATE A DEVICE WITH GIVEN NUMBER OF SHOTS\n",
        "\n",
        "    # DECORATE THE CIRCUIT BELOW TO CREATE A QNODE\n",
        "\n",
        "\n",
        "    # RUN THE QNODE N_TRIALS TIMES AND RETURN THE VARIANCE OF THE RESULTS\n",
        "\n",
        "    return np.var(var_list)\n",
        "\n",
        "\n",
        "def variance_scaling(n_shots):\n",
        "    \"\"\"Once you have determined how the variance in expectation value scales\n",
        "    with the number of shots, complete this function to programmatically\n",
        "    represent the relationship.\n",
        "\n",
        "    Args:\n",
        "        n_shots (int): The number of shots\n",
        "\n",
        "    Returns:\n",
        "        float: The variance in expectation value we expect to see when we run\n",
        "        an experiment with n_shots shots.\n",
        "    \"\"\"\n",
        "\n",
        "\n",
        "\n",
        "    ##################\n",
        "    estimated_variance=1/n_shots\n",
        "    ##################\n",
        "\n",
        "\n",
        "    # ESTIMATE THE VARIANCE BASED ON SHOT NUMBER\n",
        "\n",
        "    return estimated_variance\n",
        "\n",
        "\n",
        "# Various numbers of shots; you can change this\n",
        "shot_vals = [10, 20, 40, 100, 200, 400, 1000, 2000, 4000]\n",
        "\n",
        "# Used to plot your results\n",
        "results_experiment = [variance_experiment(shots) for shots in shot_vals]\n",
        "results_scaling = [variance_scaling(shots) for shots in shot_vals]\n",
        "plot = plotter(shot_vals, results_experiment, results_scaling)\n"
      ],
      "metadata": {
        "id": "i9tZpIlKTaJL"
      },
      "execution_count": null,
      "outputs": []
    },
    {
      "cell_type": "markdown",
      "source": [
        "![image.png](data:image/png;base64,iVBORw0KGgoAAAANSUhEUgAAAyQAAAIICAIAAAAQcb2qAAAAAXNSR0IArs4c6QAAIABJREFUeAHtvf2XHcV577v/o/27113rXN+TO9s5VzlxHBKPb3x1kvh4bQfbJ7GXfe2cxE7SYLETjIwxYBAvw8TNAQTIE1sMMmBkMQ0CCUkjCYkW0qAZNMPrntHwtpmRRqp7mRJFuXrvftn76aqnSt+9WHJ3dfXzPPX51tR83d27pyHwAQEQAAEQAAEQAAEQqI1Ao7bICAwCIAACIAACIAACICBgtjAJQAAEQAAEQAAEQKBGAjBbNcJFaBAAARAAARAAARCA2cIcAAEQAAEQAAEQAIEaCcBs1QgXoUEABEAABEAABEAAZgtzAARAAARAAARAAARqJACzVSNchAYBEAABEAABEAABmC3MARAAARAAARAAARCokYANs5WmabPZbGx+4jjOH00cx1EU6X0qnX5p5eylcwc2Xtmz8cqeS+cOXFo5q4fCNgiAAAiAAAiAAAhYJlC72ep2u61WS3osaZuSJBk0yDiOG42GbrYqnb7xyhNrj/zV2s6tn/73yF9tvPLEoHRoBwEQAAEQAAEQAIG6CdRutuI4brfbvV5PjsTYVcPr9XrtdrvZbI6Njelmy+hv7KrThRCX3jz+qcfS/dbOrZfePK73xDYIgAAIgAAIgAAIWCNQu9mKNj9qPGmajo+Pd7td1SI3kiSRnszob+wOOv3y6rn1XV9VZuvCcz+7+OK960/8QLas7/rq5dVzRkbsggAIgAAIgAAIgIAFAvWaLXm9Sn9OK03TsbGxNE0HjU13V+VPv/TafuW0Lr11UgVf3/N92X7ptf2qERsgAAIgAAIgAAIgYI1AIGZr49Tj0lRd2LtNZ3fhuZ/J9o1Tj+vt2AYBEAABEAABEAABOwT8NlsLCwudzc9DN3z1pW2feWnbZ6Zv+FKn09mzZ8/c5ufN3f+yct81K/dds/jMfbIF/4IACIAACIDA1UDAjo1AljIE6jVbQgj9tqAQYtBDV6pWo7+xa5y+urqabH6OPHb363dsef2OLWfv+8rExESn01lcXHzj+O9W//3P5X9vHn5sMZTP/Pz8mTNnQhlNn3FggH2geNUkFVwq/VlcXFR9K23rnVWEkhvy3OH+VVN0aWlJKVMyr9FNH0KlbT2v3DYiF+7mjH1hYeHMmTNydNl/h0uXX0/h2Ecfr17A/Pz83Nyc3qJv55AxaOhn1bGdX0lORjlA9YsVG84J1G62jO8PGrvZ8Rvuyuhv7KrTL62cVS99OL3j/37yhmsu7N2mnuJae+SvQnrh1vLy8tzcnBp7eBsYoO+aQkEoyJxA8FN0cXHR318T8nHtnLdEMZ9dfcur3WxVelFW9kpY+dM/fsnW5hsfXrv1cy9t+8ynTmvn1sBetRX8MoEB9v1Z9agRCnokVt9SoWBfLB41+mu25C/9RqMBs1V5vg16BbxxEUvGzTYOOj1bx6U3j6/v+qputtZ3fTW8l2xhHcxK71cLFPRLr2y1UDDLxK+W4BWE2eI2IWu/smV5wJdXzz338M07b/jqxqnHL722P8jXawW/TGCAln9qyNNBQXKklgNCQcvAydORmy151aPZbKo3N2UvQUVRJP8uX6PRaLVa8oWa6sSpqSn5h/v095YbA9evrTQajf9j89NoNPQXSCVJIuO/8sorrVar0Wg88cQT7XZbptZfoi6EUEXqJRlJ7eyGZraEENPT051Oxw4+J1mwDjrBTpgUChLCdBIKCjrBTpg0eAXJzZZ8jkr3PfLP6ylzozst6Xuk3zL8U/79QaNzq9W64447Go2GyiKfNZJ/1k83Usrk6abKiNZoNHSzSDidyoSC2SpDiVef4JcJDJDXhKteDRSszozXGVCQlx7VqyE3W0II3V0Z3kvaGnU1S158ks5GOR7dMOUMSFko+cyWPF2ZJHlU7qqeRl7pCI0KVf0519Vyqhr9EMzW6AxtR8A6aJs4dT4oSE3UdjwoaJs4db7gFazDbOlGx/BASh9lrdRlJNVS8oF3ZaFkf8Mz6YbP6ClrkBfYoihSR/WLXvp1L1WznQ2YLTucKbMEv0xggJTTxUUsKOiCOmVOKEhJ00WsOsyWuoUXb370u3vKEunOxriyNZzZEkLI62Ttdrvb7cpns2QoZaf0yMpsKZOnlwSzRTkZ8cwWJU0XsbDQu6BOmRMKUtJ0EQsKuqBOmbMmsyV9z/jmR3/6Sl5wUi3Z24jqPmDhILMWSrY0m035iL26aah66o/PK7OljupWrDB7fR1wZas+tnVFxjpYF1lbcaGgLdJ15YGCdZG1FTd4BWsyW8rBGJeIpMVRT2XJXf3K1ihmS11Rk9eolLVSxSj7JU2e8cyWURWe2SL7IcOVLTKUjgIFvw5igI5mFllaKEiG0lGg4BWsyWypx8zl9wGVesrl6PfsRjRb6qkv+Yf+5GsjdNOmzJaeVL+5ma1KP10Vb2cDV7bscKbMEvwygQFSThcXsaCgC+qUOaEgJU0XseozW+pZKOP2nLqT2Gq1zp07Jx+uiuNY9q/kcpRJUmepZ8LUZSr9HVpJkshrabrTktRVtbp1cyGIgNlygn2kpFgHR8LH4GQoyECEkUqAgiPhY3By8ArWZ7acqKcuYukOr2+jk/LKJIXZKkOJV5/glwkMkNeEq14NFKzOjNcZUJCXHtWrYWu21DUq496f3FVPX6kR65emjKMwW4qSmw08s+WGO11WLPR0LN1EgoJuuNNlhYJ0LN1ECs9sqVuKCijMlkLhZgNmyw13uqxY6OlYuokEBd1wp8sKBelYuonE1my5wcEgK24jMhChYglYBysCY9cdCrKTpGJBULAiMHbdg1cQZovbnIPZ4qZIcT3BLxMYYPEk4N0DCvLWp7g6KFjMiHcPmC1u+sBscVOkuB6sg8WMePeAgrz1Ka4OChYz4t0jeAVhtrhNQJgtbooU1xP8MoEBFk8C3j2gIG99iquDgsWMePeA2eKmD8wWN0WK68E6WMyIdw8oyFuf4uqgYDEj3j2CVxBmi9sEhNnipkhxPcEvExhg8STg3QMK8tanuDooWMyIdw+YLW76wGxxU6S4HqyDxYx494CCvPUprg4KFjPi3SN4BS2YrY/WL77eff/k/Dv7ZhdOzr/zevf9j9Yv8pbdZXUwWy7pD5c7+GUCAxxuYvA5Cwry0WK4SqDgcNz4nFW32dp7eD6anMn+t/fwPB8IrCqB2WIlR6lisA6WwsS4ExRkLE6p0qBgKUyMOwWvYK1m667dh6XNuvGB/bdPvTi55+jtUy/e+MB+2XjX7sOMlXdWGsyWM/RDJw5+mcAAh54bTE6EgkyEGLoMKDg0OiYn1me2fvLwC9JUPffSojHY515alId+8vALxiGHu/Kv+uh/wbqOYk6dOtXtdnMiw2zlwGF6COsgU2FKlwUFS6Ni2hEKMhWmdFnBK1iT2Zo59pq0U6sfrPWFvfrBmuwwc+y1vh2CbEySxPgj2dlhwmxlmXBvCX6ZwAC5T8Gi+qBgESHux6Egd4WK6qvDbB1/9W1ppBbfeS8n/+I778lux199O6dbSIdgtkJS89OxYB38lIWfW1DQT90+rRoKfsrCz63gFazDbP3q2VPR5My+2YVCzffNLkSTMw//7uSgnmmaNpvNxuYniiLZLYqiZrOZpqkQotfrtTc/vV4viqLvfve77Xbb6K+6yXZ1banb7Y6Pj995552NRqPVar3yyiutVkveRjRCxXGsKlGpB4UVQkSffGTGdrvd6/WSJJG7jUYj52YlrmwNmgx824NfJjBAvpOvXGVQsBwnvr2gIF9tylVWh9maeHw2mpw5mL5eWMLJ+XeiyZlBT24lSaKcjTRV0m/pBiuOY2WeoihqNBpxHAsh5ANY2W0hhDpF9pFOSJ2izJayRNIkqW5RFMltPYUeVpotdbreDVe2CqeElx2wDnopm1Y0FNRgeLkJBb2UTSs6eAXrMFs3Pvjx9w3T1/IeA5eM3/3kya2V9z7SqF/ZjKJIuiW5n6bp2NiYvKAlrzNJd6WuEikbJPsrZ5MkibJK6nJUHMe6DcqaLXWK7KayxHEsDw0KK82WOl1d6BJCqJKyg1UtuLKlUHizEfwygQF6MxcHFAoFB4DxphkKeiPVgELrMFs/3jRbr5xbHpDz0+b3PlyXj22df980W/LylbrvJjfUhS55JanRaKh7i7qnkQmUOYvj2IgjL4AZLkrflbcBZRy9XeaVRmpQ2GwlKhrM1qfah7SFddB3NaEgFGROAFOUuUCF5dVhtib3HI0mZw6/8kZh9lOvdaPJmVseOZDtKS2OfmXL6CMva/W9gCR7KrNlXPFScQwXpe8qe2Rc8dLN1qCwMFuK8JWN6enpTqdjtga0j3XQdzGhIBRkTgBTlLlAheXVYbZ2P3e60gPyu575+FF346M/pGUckvfjGo3G1NRUq9VShsxwP+oyknpIy4ijuyvDVJUxW4PCwmwZnAXMlknEt30s9L4pZtYLBU0ivu1DQd8UM+utw2wdOf1mmXc6qDdEHDn9plnW5r58Ml1/WEo+C69f9NIfos9/QF7dcJTPeyVJMqLZkqdnw+aYLXWxre94ZSOe2cqBw/QQ1kGmwpQuCwqWRsW0IxRkKkzpsoJXsA6zJYR4dN/L0m/11i70hd1buyA7PLrv5b4dZKP+ugTptPSvIso+URTJQ9n3NajI0hipJ7ekgRvRbKmLYUbYHLOlHkRTV+NUhWoDZkuh8GYj+GUCA/RmLg4oFAoOAONNMxT0RqoBhdZktoQQNz7wnLRTx+beMpIfm3tLHrrxgeeMQ6Ps6vf+Ronj9lwbZku9NEy9KqPvmOWlQvkWMv1vDOkWWF147BtBNuI2Yg4cLw5hofdCppwioWAOHC8OQUEvZMopsj6zJYR4+Hcnpam65ZEDDzz10r7ZhQeeeumWRw7Ixpx3meYUnHMIZisHzqeH5AU9eW1N3VL99PAnW/ojafrTcPrNXePa4Cenmv8Ls2US8W0fC71vipn1QkGTiG/7UNA3xcx6azVbQogDLy9Ja2X8e+DlJbOUkfdhtkohVC8Kk72NXdlouCh916BsvG2sbwUwW32xeNSIhd4jsfqWCgX7YvGoEQp6JFbfUus2W0KI9z5cf3mh++SLr07uOfrki6++vNB978P1vsWgUQhR+21Ewy2laTo+Pq7fJRRCZJ/kl2+YlQ+d6U+c9T3dEBJmywDi3S4Weu8kMwqGggYQ73ahoHeSGQVbMFtGRuzmE6jXbPV1S+rF/Koy9doM1aIsmtqQh/Svg6rOxgbMlgHEu10s9N5JZhQMBQ0g3u1CQe8kMwqG2TKAON/lbrb0Z7akddPf698XH8xWXyweNWKh90isvqVCwb5YPGqEgh6J1bdUmK2+WBw2cjdb6pWyjUaj2WxOTU3pF8YWFhY6Az5z+IAACIAACIDAVUzAobdAaoNAvWYr+xKwvg9dDXpmy6g1+7e1V1dXk83PjPaZmJjodDrL4X4WFxfPnDkT7viWMUDfxZUKrqysqIEEtq2maGDjUnotLS2pRSbIMcoLP8vLy3J04f07Pz8/NzeX/R2KFlcEajdbxtcPjV05bP3rh+rlrfKVWkZ/4xGuvtRwG7EvFo8acQvDI7H6lgoF+2LxqBEKeiRW31JxG7EvFoeNtZstaaSGfs+W/mquMk/HC4G/jehwOtGkxkJPw9FdFCjojj1NZihIw9FdFAtm6/L6B5dWXr107sDGiV2Xzh24tPLq5fUP3I2Ye+bazZZ8s0Oz2ZR/Zkh/j4NxmarwDfKFj8ZL2LiyxX3SFdWHhb6IEPfjUJC7QkX1QcEiQtyP1222No4/srZza/a/jeOPcEfjqD4bZsvy0GC2LAMnT4eFnhyp5YBQ0DJw8nRQkByp5YC1mq31J38obdb61N+sP/69C3u3rT/+vfWpv7nS+OQPLQ/Wi3QwW17I9HtFYh38PRwe7kBBD0X7vZKh4O/h8HAneAXrM1trv/5baao2Tk0bym+cmr5yrevXf2scMnbjOJZvGEjT1Dg09G632z116pTx2PfQ0chPhNkiR1p7wOCXCQyw9jlUcwIoWDPg2sNDwdoR15ygJrO1cfI/pJ26/GG37wguf9i9YsVO/kffDjWZIeNrdoNSO2yH2XIIf8jUWAeHBMfmNCjIRoohC4GCQ4Jjc1rwCtZhti4tPHfFaS3nvVTi8vKc7HZp4bm+gmdf9tS3W6VGmK1KuGg6P7Rr9/evu3n29JtvrYT5zYjglwkMkOYnwV0UKOiOPU1mKEjD0V2UOszWxQN3re3cunFiV+GwNk7sWtu59cJzP8v2lH8VRn5hLooiw3ipXWmepqamWq1W9tt18i6kapedVUzDeOkZ1Vf0ZKKpqSn17T35tqlswVQtQV3Z6r7bu+exI9+48dGtP5iIJmeiyZn/f7f7bo8KFpM4WAeZCDF0GVBwaHRMToSCTIQYuozgFazDbF14+rqPzdbppwqxXzp34OOLWwOe3FKOSr6sQP+rMOqQNEytVqvb/fh+pf7ipziO1asJ1MuhdIOlb2c76y+iarfbvd7HDiGOY5WrcHTDdQjHbK2+vyYNlm62ZMvq+2vD0eF5VvDLBAbIc+KVrwoKlmfFsycU5KlL+arqMFtrU9d+bLYWDxWWcfnD5Ss3HN9/M9tZOapCs6UuRCn/JP9EsmpXwVUH/ZmwbGf1mnTl0mQEvSQVk3YjELO1cenyvdOz0lr93U2PfvNfbt/1zMud+5+VLfdOz25cukwLzmE0rIMO4ZOkhoIkGB0GgYIO4ZOkDl7B+szWpdePFEpwuXf+itn64O1sZ93Z6Nu699LNk+6fjHYVXG9X22pDdVN/MHBQXtWTfCMQs3Vy/h3pq2555MDOXz7W6XSEEG+f//CWRw7I9pPz75CzcxUw+GUCA3Q1tajyQkEqkq7iQEFX5Kny1mG2LuzdtrZz66VXf1dY5MbS4bWdW9d3f7tvT93o6NsWzFaSJPJ24aC8fQsmaQzEbB14eUmaqgeeekl/qekDT70k2w+8vETCi0MQrIMcVBilBig4Cj0O50JBDiqMUkPwCtZhti6+eG+lB+QvPv/zvhrpRkff1p/NMi5Kqd3snUGZQnXQL4NlO+u3Efs+K9a3YJLGQMzWs8fPSVP1xME53WxNP39Gtj97/BwJLw5Bgl8mMEAO02yUGqDgKPQ4nAsFOagwSg11mK2NV/fJm4MbC/tzattY2H+l26v7+nbTDZY0SVEUCSGkN5IPv+vmSfdPxsPsyk6pjWxn42l69YA8zFZfdQoaXzr7tjRV9zx2RJmtd1Y//PGD+2X7S2f73DkuCMr1MNZBrsqUrQsKliXFtR8U5KpM2bqCV7AOsyWEuLD/tisPY62/35f15fX3ZYcL+2/r20G/Vyg7yGfV5Qvlp6ampAfKMVvSb8kXPTQaDfWwvHwfRLvdXlxcbLVa6lUOOa9+UO+v1/3foLJHbA/kytbr3fd/9IuP3/UQTc784LZd37nu1icOvnrnrw7Llh/9Yub1bv+ZMSI+J6cHv0xggE7mFWFSKEgI00koKOgEO2HSmsyWEEL9DcSN+WeNgjfmn5VOa33qb4xD2A3EbAkh1GNb2Vc/hPTAlhAC66DvP7dQEAoyJ4ApylygwvLqM1sfX9967mdXTNXub1+YuWnjxK4LMzet7/72lWta/d5lWlhw8B3CMVtCiLmllc79z+pmq3P/s3NLK4GpiHXQd0GhIBRkTgBTlLlAheXVaraEEBunn5TWyvh34/SThbVdnR2CMltCiLfOf3j7L34l37P1/InFt85/GJ6uWAd91xQKQkHmBDBFmQtUWF7dZksIcbm3cmnx4MWjD17Yu+3i0QcvLR683Avt0kYh5/IdQjNbQgj1gHx5Cn71xDrol17ZaqFglolfLVDQL72y1QavoAWzlaWKlhwCMFs5cJgeCn6ZwACZzrzSZUHB0qiYdoSCTIUpXRbMVmlUljrCbFkCTZgG6yAhTCehoKAT7IRJoSAhTCehglcQZsvJvMpJCrOVA4fpoeCXCQyQ6cwrXRYULI2KaUcoyFSY0mXBbJVGZakjzJYl0IRpsA4SwnQSCgo6wU6YFAoSwnQSKngFYbaczKucpDBbOXCYHgp+mcAAmc680mVBwdKomHaEgkyFKV0WzFZpVJY6wmxZAk2YBusgIUwnoaCgE+yESaEgIUwnoYJXEGbLybzKSQqzlQOH6aHglwkMkOnMK10WFCyNimlHKMhUmNJlwWyVRmWpI8yWJdCEabAOEsJ0EgoKOsFOmBQKEsJ0Eip4BWG2nMyrnKQwWzlwmB4KfpnAAJnOvNJlQcHSqJh2hIJMhSldFsxWaVSWOsJsWQJNmAbrICFMJ6GgoBPshEmhICFMJ6GCVxBmy8m8ykkKs5UDh+mh4JcJDJDpzCtdFhQsjYppRyjIVJjSZcFslUZlqSPMliXQhGmwDhLCdBIKCjrBTpgUChLCdBIqeAVhtpzMq5ykMFs5cJgeCn6ZwACZzrzSZUHB0qiYdoSCTIUpXRbMVmlUljrCbFkCTZgG6yAhTCehoKAT7IRJoSAhTCehglcQZsvJvMpJCrOVA4fpoeCXCQyQ6cwrXRYULI2KaUcoyFSY0mXBbJVGZakjzJYl0IRpsA4SwnQSCgo6wU6YFAoSwnQSKngFYbaczKucpDBbOXCYHgp+mcAAmc680mVBwdKomHaEgkyFKV0WzFZpVJY62jBbaZo2m83G5ieO40Eji6JI9mm1Wt1uV3UrebrqPz093el01G54G1gHfdcUCkJB5gQwRZkLVFgezFYhIssdajdb3W631WpJjyVtU5Ik2UHGcaw8VhRF7Xa71+sJIUqergeE2dJp+LiNhd5H1fSaoaBOw8dtKOijanrNMFs6DQ7btZutOI6VcxJCGLsSgXRUyoTpu0mSKBM26HSDI8yWAcS7XSz03klmFAwFDSDe7UJB7yQzCobZMoA4363dbEWbHzXONE3Hx8f1u4RCiDRNx8bG0jRV3aIokhfDYLYUE7WBdVCh8HQDCnoqnCobCioUnm4EryDMFreZWa/Z6vV67XZbf04r66uEEIajEkIoi6bfRtS3czjiylYOHC8OBb8OYoBezMOcIqFgDhwvDgWvIMwWt3nI3Wypx7bks/PqVmMOR5itHDheHAp+HcQAvZiHOUVCwRw4XhwKXkGYLW7zkLvZSpKk2WzKO4zyOpn+BNjCwkJnwGcOHxAAARAAARC4iglwMxxXcz31mi39hqCkXOmZrcK7kKurq8nmZ0b7TExMdDqd5XA/i4uLZ86cCXd8yxig7+JKBVdWVtRAAttWUzSwcSm9lpaW1CIT5BjlhZ/l5WU5uvD+nZ+fn5ubu5rNDbex1262jK8fGrsSh/71Q3XfMEmSQrPVlyZuI/bF4lFj8Ff4MUCPZmPfUqFgXyweNQavIG4jcpuNtZst/an2Id6zlX8bsS9NmK2+WDxqDH4dxAA9mo19S4WCfbF41Bi8gjBb3GZj7WZLvtmh7xvk1VcOJZRBb5BPkkQ+Hd9oNKIoKiQIs1WIiHmH4NdBDJD5DCwsDwoWImLeIXgFYba4zUAbZsvymGG2LAMnTxf8OogBks8ZywGhoGXg5OmCVxBmi3zOjBgQZmtEgA5OD36ZwAAdzCrSlFCQFKeDYFDQAXTSlDBbpDgJgsFsEUC0HALroGXg5OmgIDlSywGhoGXg5OmCVxBmi3zOjBgQZmtEgA5OD36ZwAAdzCrSlFCQFKeDYFDQAXTSlDBbpDgJgsFsEUC0HALroGXg5OmgIDlSywGhoGXg5OmCVxBmi3zOjBgQZmtEgA5OD36ZwAAdzCrSlFCQFKeDYFDQAXTSlDBbpDgJgsFsEUC0HALroGXg5OmgIDlSywGhoGXg5OmCVxBmi3zOjBgQZmtEgA5OD36ZwAAdzCrSlFCQFKeDYFDQAXTSlDBbpDgJgsFsEUC0HALroGXg5OmgIDlSywGhoGXg5OmCVxBmi3zOjBgQZmtEgA5OD36ZwAAdzCrSlFCQFKeDYFDQAXTSlDBbpDgJgsFsEUC0HALroGXg5OmgIDlSywGhoGXg5OmCVxBmi3zOjBgQZmtEgA5OD36ZwAAdzCrSlFCQFKeDYFDQAXTSlDBbpDgJgsFsEUC0HALroGXg5OmgIDlSywGhoGXg5OmCVxBmi3zOjBgQZmtEgA5OD36ZwAAdzCrSlFCQFKeDYFDQAXTSlDBbpDgJgsFsEUC0HALroGXg5OmgIDlSywGhoGXg5OmCVxBmi3zOjBgQZmtEgA5OD36ZwAAdzCrSlFCQFKeDYFDQAXTSlDBbpDgJgsFsEUC0HALroGXg5OmgIDlSywGhoGXg5OmCVxBmi3zOjBgQZmtEgA5OD36ZwAAdzCrSlFCQFKeDYFDQAXTSlDBbpDgJgsFsEUC0HALroGXg5OmgIDlSywGhoGXg5OmCVxBmi3zOjBgQZmtEgA5OD36ZwAAdzCrSlFCQFKeDYFDQAXTSlDBbpDgJgsFsEUC0HALroGXg5OmgIDlSywGhoGXg5OmCVxBmi3zOjBgQZmtEgA5OD36ZwAAdzCrSlFCQFKeDYFDQAXTSlDBbpDgJgsFsEUC0HALroGXg5OmgIDlSywGhoGXg5OmCVxBmi3zOjBgQZmtEgA5OD36ZwAAdzCrSlFCQFKeDYFDQAXTSlDBbpDgJgsFsEUC0HALroGXg5OmgIDlSywGhoGXg5OmCVxBmi3zOjBgQZmtEgA5OD36ZwAAdzCrSlFCQFKeDYFDQAXTSlDBbpDgJgsFsEUC0HALroGXg5OmgIDlSywGhoGXg5OmCVxBmi3zOjBgQZmtEgA5OD36ZwAAdzCrSlFCQFKeDYFDQAXTSlDBbpDgJgsFsEUC0HALroGXg5OmgIDlSywGhoGXg5OmCVxBmi3zOjBgQZmtEgA5OD36ZwAAdzCrSlFCQFKeDYFDQAXTSlDBbpDgJgsFsEUC0HALroGXg5OmgIDlSywGhoGXg5OmCVxBmi3zOjBgQZmtEgA5OD36ZwAAdzCogCPdYAAAgAElEQVTSlFCQFKeDYFDQAXTSlDBbpDgJgsFsEUC0HALroGXg5OmgIDlSywGhoGXg5OmCVxBmi3zOjBgQZmtEgA5OD36ZwAAdzCrSlFCQFKeDYFDQAXTSlDBbpDgJgtkwW2maNpvNxuYnjuNBVUdRJPu0Wq1utyuE6PV67XZbNqp/m81mmqaDggghpqenO51OTgffD2EdhILMCWCKMheosDwoWIiIeQeYLW4C1W62ut1uq9WSHku6riRJshTiOFYeK4qidrvd6/WMbtJ7RVFktBu7MFsGEO92sdB7J5lRMBQ0gHi3CwW9k8woGGbLAOJ8t3azFcex7pyMXTl+aciUCTN2FSPdkKnG7AbMVpaJXy1Y6P3SK1stFMwy8asFCvqlV7ZamK0sE7cttZutaPOjBpmm6fj4uLxLqDeOjY3pNwejKDJuOOZcFVNx5AbMlgHEu10s9N5JZhQMBQ0g3u1CQe8kMwqG2TKAON+t12zJG3+6bUrT1PBVQogkSdQ9REnEsGhCiEH3FrMEYbayTPxqwULvl17ZaqFglolfLVDQL72y1cJsZZm4bfHDbA26sdiXHcxWXyweNWKh90isvqVCwb5YPGqEgh6J1bdUmK2+WBw2+mG2spe+JLKFhYXOgM8cPiAAAiAAAiBwFRNw6C2Q2iBQr9mSt//07w8O98xW9q6iHMbq6mqy+ZnRPhMTE51OZzncz+Li4pkzZ8Id3zIG6Lu4UsGVlRU1kMC21RQNbFxKr6WlJbXIBDlGeeFneXlZji68f+fn5+fm5ozf99h1SKB2s2V8/dDYlSM37hIau9kHv/J54TZiPh/+R3ELg79G+RVCwXw+/I9CQf4a5VeI24j5fOwfrd1sSec0ynu2DO9VyAhmqxAR8w5Y6JkLVFgeFCxExLwDFGQuUGF5MFuFiCx3qN1sCSEGvUHeuDmYfYO8ZNH3C4w5mGC2cuB4cQgLvRcy5RQJBXPgeHEICnohU06RMFs5cJwcsmG2LA8MZssycPJ0WOjJkVoOCAUtAydPBwXJkVoOCLNlGXhhOpitQkTsOmAdZCdJxYKgYEVg7LpDQXaSVCwoeAVhtirOiNq7w2zVjpg8QfDLBAZIPmcsB4SCloGTp4OC5EgtB4TZsgy8MB3MViEidh2wDrKTpGJBULAiMHbdoSA7SSoWFLyCMFsVZ0Tt3WG2akdMniD4ZQIDJJ8zlgNCQcvAydNBQXKklgPCbFkGXpgOZqsQEbsOWAfZSVKxIChYERi77lCQnSQVCwpeQZitijOi9u4wW7UjJk8Q/DKBAZLPGcsBoaBl4OTpoCA5UssBYbYsAy9MB7NViIhdB6yD7CSpWBAUrAiMXXcoyE6SigUFryDMVsUZUXt3mK3aEZMnCH6ZwADJ54zlgFDQMnDydFCQHKnlgDBbloEXpoPZKkTErgPWQXaSVCwIClYExq47FGQnScWCglcQZqvijKi9O8xW7YjJEwS/TGCA5HPGckAoaBk4eTooSI7UckCYLcvAC9PBbBUiYtcB6yA7SSoWBAUrAmPXHQqyk6RiQcErCLNVcUbU3h1mq3bE5AmCXyYwQPI5YzkgFLQMnDwdFCRHajkgzJZl4IXpYLYKEbHrgHWQnSQVC4KCFYGx6w4F2UlSsaDgFYTZqjgjau8Os1U7YvIEwS8TGCD5nLEcEApaBk6eDgqSI7UcEGbLMvDCdDBbhYjYdcA6yE6SigVBwYrA2HWHguwkqVhQ8ArCbFWcEbV3h9mqHTF5guCXCQyQfM5YDggFLQMnTwcFyZFaDgizZRl4YTqYrUJE7DpgHWQnScWCoGBFYOy6Q0F2klQsKHgFYbYqzojau8Ns1Y6YPEHwywQGSD5nLAeEgpaBk6eDguRILQeE2bIMvDAdzFYhInYdsA6yk6RiQVCwIjB23aEgO0kqFhS8gjBbFWdE7d1htmpHTJ4g+GUCAySfM5YDQkHLwMnTQUFypJYDwmxZBl6YDmarEBG7DlgH2UlSsSAoWBEYu+5QkJ0kFQsKXkGYrYozovbuMFu1IyZPEPwygQGSzxnLAaGgZeDk6aAgOVLLAWG2LAMvTAezVYiIXQesg+wkqVgQFKwIjF13KMhOkooFBa8gzFbFGVF7d5it2hGTJwh+mcAAyeeM5YBQ0DJw8nRQkByp5YAwW5aBF6aD2SpExK4D1kF2klQsCApWBMauOxRkJ0nFgoJXEGar4oyovTvMVu2IyRMEv0xggORzxnJAKGgZOHk6KEiO1HJAmC3LwAvTwWwVImLXAesgO0kqFgQFKwJj1x0KspOkYkHBKwizVXFG1N4dZqt2xOQJgl8mMEDyOWM5IBS0DJw8HRQkR2o5IMyWZeCF6WC2ChGx64B1kJ0kFQuCghWBsesOBdlJUrGg4BWE2ao4I2rvDrNVO2LyBMEvExgg+ZyxHBAKWgZOng4KkiO1HBBmyzLwwnQwW4WI2HXAOshOkooFQcGKwNh1h4LsJKlYUPAKwmxVnBG1d4fZqh0xeYLglwkMkHzOWA4IBS0DJ08HBcmRWg4Is2UZeGE6mK1CROw6YB1kJ0nFgqBgRWDsukNBdpJULCh4BWG2Ks6I2rvbMFtpmjabzcbmJ47jQWOKokj2abVa3W5Xdet2u61WSx6Koki1D9qYnp7udDqDjgbQHvwygQH6PkuhIBRkTiD4KQqzxW0G1m62pFWSHku6riRJshTiOFYeK4qidrvd6/WEEPIUeboeKhtBtcBsKRSebgS/DmKAns5MVTYUVCg83QheQZgtbjOzdrMVx7FyTkIIY1fikC5KmTB9Vzdeg043mMJsGUC82w1+HcQAvZuTRsFQ0ADi3W7wCsJscZuTtZutaPOjhp2m6fj4uH6XUF6+GhsbS9NUdYuiKI7jXq/Xbrdz7jyq/voGzJZOw8ft4NdBDNDHaanXDAV1Gj5uB68gzBa3aVmv2cq6pTRNDV8lhEiSRN1DlICkRZOXuJ544ol2u41nttTUCX6ZwACV1p5uQEFPhVNlQ0GFwtMNmC1uwnlgtprNprzoJb1X4TPyuLLFbZJVrQcLfVVi3PpDQW6KVK0HClYlxq0/zBY3RTwwW+pZLnkNTHkvIcTCwkJnwGcOHxAAARAAARC4iglwMxxXcz31mi0hxCjPbOlPykuRjLuQq6uryeZnRvtMTEx0Op3lcD+Li4tnzpwJd3zLGKDv4koFV1ZW1EAC21ZTNLBxKb2WlpbUIhPkGOWFn+XlZTm68P6dn5+fm5u7ms0Nt7HXbraMrx8auxKHYar0XfmkvKKWfbpLHVIbuI2oUHi6gVsYngqnyoaCCoWnG1DQU+FU2biNqFAw2ajdbEnnNMp7ttQD9TIUntnCOsjkh2foMqDg0OiYnAgFmQgxdBnBKwizNfTcqOnE2s2WejGp/Dqh/h4H4w7joDfI6y+gL3RaQghc2apprlgLG/w6iAFam0s1JYKCNYG1FjZ4BWG2rM2lkolsmK2SpVB1g9miIukqTvDrIAboampR5YWCVCRdxQleQZgtV1NrUF6YrUFk+LYHv0xggHwnX7nKoGA5Tnx7QUG+2pSrDGarHCd7vWC27LGmyoR1kIqkqzhQ0BV5qrxQkIqkqzjBKwiz5WpqDcoLszWIDN/24JcJDJDv5CtXGRQsx4lvLyjIV5tylcFsleNkrxfMlj3WVJmwDlKRdBUHCroiT5UXClKRdBUneAVhtlxNrUF5YbYGkeHbHvwygQHynXzlKoOC5Tjx7QUF+WpTrjKYrXKc7PWC2bLHmioT1kEqkq7iQEFX5KnyQkEqkq7iBK8gzJarqTUoL8zWIDJ824NfJjBAvpOvXGVQsBwnvr2gIF9tylUGs1WOk71eMFv2WFNlwjpIRdJVHCjoijxVXihIRdJVnOAVhNlyNbUG5a1mtuQfzGk0Gs1m88iRI+12W38j/KAcltvxUlPLwMnTBb8OYoDkc8ZyQChoGTh5uuAVhNkinzMjBqxgtpIkkX9yR5ot+TehG40GN78FszXinHB+evDrIAbofI6NWAAUHBGg89ODVxBmy/kcMwooa7Z6vV673W42m2maJkkiN+SFrlar1e12jbgOd2G2HMInSR38OogBkswTh0GgoEP4JKmDVxBmi2SeEAYpa7akr2q3271eT5kt6cBgtgj1KBMq+GUCAywzDTj3gYKc1SlTGxQsQ4lzH5gtbuqUNVvSVzUajWTzoy5xNRoN6cD4DAxXtvhoMVwlWOiH48bnLCjIR4vhKoGCw3HjcxbMFh8tZCVlzZYQQn9mSz28Je0Xq1HBbLGSY4hisNAPAY3VKVCQlRxDFAMFh4DG6hSYLVZyCCEqmC0hhPo2ojRb3G4gSrgwW9wmWdV6sNBXJcatPxTkpkjVeqBgVWLc+sNscVOkmtniVn3femC2+mLxqBELvUdi9S0VCvbF4lEjFPRIrL6lwmz1xeKwEWbLIfwhU2MdHBIcm9OgIBsphiwECg4Jjs1pwSsIs8Vmrl0ppJrZiuNY3TqUj3AlScJtSLiyxU2RqvUEvw5igFWnBLf+UJCbIlXrCV5BmK2qU6Lu/hXMVhzH8nWmaZoKIeQuXmpat0LZ+MEvExhgVnS/WqCgX3plq4WCWSZ+tcBscdOrrNmSj8bLNz6oMciLW3j1gwJiZwProB3O9WWBgvWxtRMZCtrhXF+W4BWE2apv8gwXuZrZMnwV3iA/HPQRzwp+mcAAR5whzk+Hgs4lGLEAKDgiQOenw2w5l8AooKzZ0l9qqkLIO4mGA1NHXW3gmS1X5KnyYqGnIukqDhR0RZ4qLxSkIukqDsyWK/KD8pY1W3ip6SCC9tuxDtpnTpsRCtLytB8NCtpnTpsxeAVhtmgnzOjRKpgtvNR0dNwkEYJfJjBAknniMAgUdAifJDUUJMHoMAjMlkP4fVNXM1t9Q3BrnJ6evv6Gf5tbWtk3uzC3tPLBRxe4VThiPVgHRwTo/HQo6FyCEQuAgiMCdH568ArCbDmfY0YBAZqtm+6d2vqDiWhyRv33xME5Y9he7wa/TGCAXs9PIQQUhILMCQQ/RWG2uM3ACmZLPSOv/xXqRqOhXnPKYWwPPX3iGzc+apitaHLmoadPcCiPpIbglwkMkGSeOAwCBR3CJ0kNBUkwOgwCs+UQft/UFcxWFEWGzeL256hnT78ZTc5Is3XXrw/vm12469eH1fWt2dNv9kXgXSPWQe8kMwqGggYQ73ahoHeSGQUHryDMlqG4892yZqvvS02dV28UcNfuj63VN2589DvRLerQs8fPSb911+7DqtHrjeCXCQzQ6/mJ24i+ywcFA1AQZoubiNXMFrdXahk0b3povzRbP/jRTerQ2TfOS7N100P7VaPXG/AiXsuH32S+ywcFoSB/AjBb3DQqa7aEEFEUsXo8K4tyW5xIs/WjG/5VHe2tXZBma1vM7m9mqyIrbcBsVcLFsDMUZChKpZKgYCVcDDsHryDMFrdZV8FspWnabDbjOOY2BlXPHf9xSJqtv7/+ZtV4bO4tabbu+I9DqtHrjeCXCQzQ6/mJCz++ywcFA1AQZoubiGXNlnxmi/kD8rufOy3N1ld+ePej+14++8b5R/e9fPPDL0iztfu509zoD1cPvMhw3PicBQX5aDFcJVBwOG58zgpeQZgtPpNNVmLDbMlLYtKo5VwYU992NG5WqnYZIYqiHIjSbP3jP11/3523PXzHDffdedudd09Ks5Vzll+Hgl8mMEC/JmS2WiiYZeJXCxT0S69stTBbWSZuW8qaraGrlJfEpMeSritJ+jw7Fcex8lhRFKkn8eXLvXIsmlFY993eb2/6y/3XffbY9i3qv0P3/F333Z7R099drIP+aicrh4JQkDkBTFHmAhWWB7NViMhyBwKztWPHjm63O6juOI6VcxJCGLvyLGnIlAnTd/XtQSn09vXHvvParZ+b/dH/dm7HNWdu+/y5Hdd0J8fXdm5df+w7ejevt7EOei0fHojxXT4oCAX5E4DZ4qZRBbMlfU/2sS11Rarv2KLNjzqUpun4+LhhztI0HRsbS9NUdYuiSF0MMw6pPtmNi8d2ru3c+tqtn3tx22cvzGzfOLHrwsz2tV99c23n1rWdWy8e25k9xccWmC0fVdNrhoI6DR+3oaCPquk1B68gzJYuN4ftCmbLeHZKuq58p5W9CZj1VUKIJEmMOMqiJUmi27v8B7bWf/M/pdl6sPM1BXfjzFPSbK3/5n+qRq83gl8mMECv5ycu/PguHxQMQEGYLW4iljVb8rKWtETq+Sr5DFaOARrdbMVx3Gw25UUvGS0n3dov29Js3db5BwX68ruL0myt/bKtGr3egBfxWj78JvNdPigIBfkTgNniplE1syWfvkqSRBmg/Dedjm62DF56aiHEwsJCR/vMbvtPL237zEvbPvPTzg/nPvmcPfniyn3XrNx3zfIvvvxJG/4XBEAABEAABAInYPwCxa5DAtXMlvRY8ipXHMfSSxl3AI3BqBuCsr3qM1tGNOMu5OrqarL5mdn8nL3vr1+/Y8vpmz4b33Dt8ief88cee//+L71//5fe/dV3Pmnz+38XFxfPnDnj9xhyq8cAc/F4cFAquLKyomoNbFtN0cDGpfRaWlpSi0yQY5QXfpaXl+Xowvt3fn5+bm7O+AWKXYcEypot+ed6Go2GvLilP7+Vc18v+/XDqt9GNLxa9ukund3FQ5PyNuLhbf/7hb3bPn5Afu+2talrrzwgf2hS7+zvNm4j+qudrBwKQkHmBDBFmQtUWB5uIxYistyhgtmSfktaK/XNxPzLWkIIdRlMCDHEe7b0+4Z6qEGY1qaufe3Wz7207TNXntPa/B7ix9tT1w46xbt2rIPeSWYUDAUNIN7tQkHvJDMKDl5BmC1Dcee71czWcOUOeoO8cdVKXS0zDJz+hcQybzed/ffvGmbr4qH7hquc51nBLxMYIM+JV74qKFieFc+eUJCnLuWrgtkqz8pOTxtmy85IVJbp6el7b/jWpbm9Gyd2XZrbe+n1WXUojA2sg77rCAWhIHMCmKLMBSosD2arEJHlDmGarU6nY5mjzXRYB23SriMXFKyDqs2YUNAm7TpyBa8gzFYd02aUmAVmSz4m1Ww25ZPp+vtF1bZx12+UakjOnZ6ehtkiIekqSPDrIAboampR5YWCVCRdxQleQZgtV1NrUF6YrUFk+LYHv0xggHwnX7nKoGA5Tnx7QUG+2pSrDGarHCd7vQrMlipEvlKr0WiUeURdneVkA1e2nGAnTIqFnhCmk1BQ0Al2wqRQkBCmk1AwW06w5yQta7bU/UT9z0XnxHV4CGbLIXyS1FjoSTA6DAIFHcInSQ0FSTA6DAKz5RB+39QwW32xsG7EOshanhLFQcESkFh3gYKs5SlRXPAKwmyVmAVWu5Q1W0II+b4r+QZ5qzVWTIYrWxWBsese/DqIAbKbcxULgoIVgbHrHryCMFvc5lxZsyVvI6pvIOob+DaiZVGDXyYwQMszijwdFCRHajkgFLQMnDwdzBY50hEDwmyNCNDB6VgHHUAnTQkFSXE6CAYFHUAnTRm8gjBbpPOFIFhZs0WQylYI3Ea0RbquPMGvgxhgXVPHVlwoaIt0XXmCVxBmq66pM2xcArO1Y8eObrc7bAH058Fs0TO1GzH4dRADtDuh6LNBQXqmdiMGryDMlt0JVZytgtka9NgWntkqxkzaI/hlAgMknS8OgkFBB9BJU0JBUpwOgsFsOYCem7KC2YqiSH8uXm5zc1pCCFzZylXcg4NY6D0QKbdEKJiLx4ODUNADkXJLhNnKxePgYFmzJS9rSWsVx7HcSNO02WxGUeSg8MEpYbYGs/HjCBZ6P3QaXCUUHMzGjyNQ0A+dBlcJszWYjZsj1cyWfMlWkiTNZlO+Sj6KIm4Xt2C23EwluqxY6OlYuokEBd1wp8sKBelYuokEs+WG++Cs1cyW9FjyKlccx/IPJsJsDcZbyxGsg7VgtRgUClqEXUsqKFgLVotBg1cQZsvibCqVqqzZEkLIZ7bkxS39+S3cRixFmq5T8MsEBkg3WdxEgoJuuNNlhYJ0LN1Egtlyw31w1gpmS/otaa3UNxO5XdbCA/KDtfbmCBZ6b6QaUCgUHADGm2Yo6I1UAwqF2RoAxllzNbPlrMwqifHMVhVaHPtioeeoSpWaoGAVWhz7QkGOqlSpCWarCi0bfWG2bFCmzYF1kJan/WhQ0D5z2oxQkJan/WjBKwizZX9S5Wcsa7Y43zc0RogrWwYQ73aDXwcxQO/mpFEwFDSAeLcbvIIwW9zmZGWzpd5rKp+U5zYePLPFUJGqJQW/DmKAVacEt/5QkJsiVesJXkGYrapTou7+Zc2WqkNd4mLrunBlS4nl6Ubw6yAG6OnMVGVDQYXC043gFYTZ4jYzK5stNQD5kq1Go8HtC4kwW0ojTzeCXwcxQE9npiobCioUnm4EryDMFreZWdlsZa9s4T1blkUNfpnAAC3PKPJ0UJAcqeWAUNAycPJ0MFvkSEcMWNZsZT0WntkaEf3Qp2MdHBodkxOhIBMhhi4DCg6NjsmJwSsIs8VkpqkyKpstth5LDQm3ERUKTzeCXwcxQE9npiobCioUnm4EryDMFreZWdZscas7px6YrRw4XhwKfh3EAL2YhzlFQsEcOF4cCl5BmC1u8xBmi5sixfUEv0xggMWTgHcPKMhbn+LqoGAxI949YLa46QOzxU2R4nqwDhYz4t0DCvLWp7g6KFjMiHeP4BWE2eI2AWG2uClSXE/wywQGWDwJePeAgrz1Ka4OChYz4t0DZoubPjBb3BQprgfrYDEj3j2gIG99iquDgsWMePcIXkGYLW4TEGaLmyLF9QS/TGCAxZOAdw8oyFuf4uqgYDEj3j1gtrjpY8NspWnabDbln/eJ43gQgiiKZJ9Br6SP47jMiyfwbcRBhH1px0Lvi1KD6oSCg8j40g4FfVFqUJ0wW4PIuGqv3WzJt6FKjyVdV5Ik2dHGcaw8VhRFWVMlz822Z0PBbGWZ+NWChd4vvbLVQsEsE79aoKBfemWrhdnKMnHbUrvZMi5HGbty8NKQKRNm7Aoh5N9h/OIXvwizJYTAOuj2Z2b07FBwdIZuI0BBt/xHzx68gjBbo08S2gi1m61o86OKTtN0fHy82+2qFiFEmqZjY2NpmqrGKIr0G44ySF+jpk5RG7iypVB4uhH8OogBejozVdlQUKHwdCN4BWG2uM3Mes2WvCKl26asrxJCJEmi7iFKQLpFU0dhtiSc4JcJDJDbMlG1HihYlRi3/lCQmyJV64HZqkqs7v7czZZ+SxFmS84GrIN1/1TUHR8K1k247vhQsG7CdccPXkGYrbqnUNX43M2Wfokra7YWFhY6Az5z+IAACIAACIDAVUygqiFA//oI1Gu2hBC6W5KPZ5V/Zkte1pLvg1D/NptN9XTX6upqsvmZ0T4TExOdTmc53M/i4uKZM2fCHd8yBui7uFLBlZUVNZDAttUUDWxcSq+lpSW1yAQ5RnnhZ3l5WY4uvH/n5+fn5ubqsw6IXJVA7WbLuBxl7Mpy9XuFQghjVw2p77nqqNrAA/IKhacbwV/hxwA9nZmqbCioUHi6EbyCuI3IbWbWbrakcxr9PVtCCJgtOXuCXyYwQG7LRNV6oGBVYtz6Q0FuilStB2arKrG6+9dutuStw75vkDfuMOIN8iXFxjpYEhTbblCQrTQlC4OCJUGx7Ra8gjBb3OaeDbNlecy4jWgZOHm64NdBDJB8zlgOCAUtAydPF7yCMFvkc2bEgDBbIwJ0cHrwywQG6GBWkaaEgqQ4HQSDgg6gk6aE2SLFSRAMZosAouUQWActAydPBwXJkVoOCAUtAydPF7yCMFvkc2bEgDBbIwJ0cHrwywQG6GBWkaaEgqQ4HQSDgg6gk6aE2SLFSRAMZosAouUQWActAydPBwXJkVoOCAUtAydPF7yCMFvkc2bEgDBbIwJ0cHrwywQG6GBWkaaEgqQ4HQSDgg6gk6aE2SLFSRAMZosAouUQWActAydPBwXJkVoOCAUtAydPF7yCMFvkc2bEgDBbIwJ0cHrwywQG6GBWkaaEgqQ4HQSDgg6gk6aE2SLFSRAMZosAouUQWActAydPBwXJkVoOCAUtAydPF7yCMFvkc2bEgDBbIwJ0cHrwywQG6GBWkaaEgqQ4HQSDgg6gk6aE2SLFSRAMZosAouUQWActAydPBwXJkVoOCAUtAydPF7yCMFvkc2bEgDBbIwJ0cHrwywQG6GBWkaaEgqQ4HQSDgg6gk6aE2SLFSRAMZosAouUQWActAydPBwXJkVoOCAUtAydPF7yCMFvkc2bEgDBbIwJ0cHrwywQG6GBWkaaEgqQ4HQSDgg6gk6aE2SLFSRAMZosAouUQWActAydPBwXJkVoOCAUtAydPF7yCMFvkc2bEgDBbIwJ0cHrwywQG6GBWkaaEgqQ4HQSDgg6gk6aE2SLFSRAMZosAouUQWActAydPBwXJkVoOCAUtAydPF7yCMFvkc2bEgDBbIwJ0cHrwywQG6GBWkaaEgqQ4HQSDgg6gk6aE2SLFSRAMZosAouUQWActAydPBwXJkVoOCAUtAydPF7yCMFvkc2bEgDBbIwJ0cHrwywQG6GBWkaaEgqQ4HQSDgg6gk6aE2SLFSRAMZosAouUQWActAydPBwXJkVoOCAUtAydPF7yCMFvkc2bEgDBbIwJ0cHrwywQG6GBWkaaEgqQ4HQSDgg6gk6aE2SLFSRAMZosAouUQWActAydPBwXJkVoOCAUtAydPF7yCMFvkc2bEgDBbIwJ0cHrwywQG6GBWkaaEgqQ4HQSDgg6gk6aE2SLFSRAMZosAouUQWActAydPBwXJkVoOCAUtAydPF7yCMFvkc2bEgDBbIwJ0cHrwywQG6GBWkaaEgqQ4HQSDgg6gk6aE2SLFSRAMZosAouUQWActAydPBwXJkVoOCAUtAydPF7yCMFvkc2bEgDBbIwJ0cHrwywQG6GBWkaaEgqQ4HQSDgg6gk1JhBjYAACAASURBVKaE2SLFSRAMZosAouUQWActAydPBwXJkVoOCAUtAydPF7yCMFvkc2bEgDBbIwJ0cHrwywQG6GBWkaaEgqQ4HQSDgg6gk6aE2SLFSRAMZosAouUQWActAydPBwXJkVoOCAUtAydPF7yCMFvkc2bEgDBbIwJ0cHrwywQG6GBWkaaEgqQ4HQSDgg6gk6aE2SLFSRAMZosAouUQWActAydPBwXJkVoOCAUtAydPF7yCMFvkc2bEgDBbIwJ0cHrwywQG6GBWkaaEgqQ4HQSDgg6gk6aE2SLFSRDMhtlK07TZbDY2P3EcD6o6iiLZp9Vqdbtd1U0/PUkS1T5oY3p6utPpDDoaQDvWQd9FhIJQkDkBTFHmAhWWB7NViMhyh9rNVrfbbbVa0mNJ29TXMMVxrDxWFEXtdrvX6wkh9FPSNB0bG0vTNJ8RzFY+H/5HsdDz1yi/QiiYz4f/USjIX6P8CmG28vnYP1q72YrjWDknIYSxKwcsDZkyYfpuHMdRFCkuURTlXBuT3WC2FC5PN7DQeyqcKhsKKhSebkBBT4VTZcNsKRRMNmo3W9HmR402TdPx8XH9LqG8fGVcshpkqoxoKqy+AbOl0/BxGwu9j6rpNUNBnYaP21DQR9X0mmG2dBoctus1W71er91u69ei+t4KTJJE3UOUUPqaqiRJms0mbiNiHeTwkzNKDVBwFHoczoWCHFQYpYbgFYTZGmV61HGuH2ZLPSOv31IchANXtgaR8aU9+HUQA/RlKg6qEwoOIuNLe/AKwmxxm4p+mC1FTX92XgixsLDQGfCZwwcEQAAEQAAErmIC6lcnNpwTqNdsCSGMG4IjPrNl3IVcXV1NNj8z2mdiYqLT6SyH+1lcXDxz5ky441vGAH0XVyq4srKiBhLYtpqigY1L6bW0tKQWmSDHKC/8LC8vy9GF9+/8/Pzc3Jxzh4ECFIHazZbx9UNjV9ahf/1QCKHvZr2a8Si9GonawG1EhcLTjeCv8GOAns5MVTYUVCg83QheQdxG5DYzazdb0jkN/Z6tJEkajYZ8K4R83L7wsS2YLW6TrGo9wa+DGGDVKcGtPxTkpkjVeoJXEGar6pSou3/tZku9mDT7BnnjqtWgN8hLvyVPL3RaQgiYrbonTd3xg18HMcC6p1Dd8aFg3YTrjh+8gjBbdU+hqvFtmK2qNY3YH2ZrRIDOTw9+HcQAnc+xEQuAgiMCdH568ArCbDmfY0YBMFsGEA92g18mMEAPZmFuiVAwF48HB6GgByLllgizlYvHwUGYLQfQR0yJdXBEgM5Ph4LOJRixACg4IkDnpwevIMyW8zlmFACzZQDxYDf4ZQID9GAW5pYIBXPxeHAQCnogUm6JMFu5eBwchNlyAH3ElFgHRwTo/HQo6FyCEQuAgiMCdH568ArCbDmfY0YBMFsGEA92g18mMEAPZmFuiVAwF48HB6GgByLllgizlYvHwUGYLQfQR0yJdXBEgM5Ph4LOJRixACg4IkDnpwevIMyW8zlmFACzZQDxYDf4ZQID9GAW5pYIBXPxeHAQCnogUm6JMFu5eBwchNlyAH3ElFgHRwTo/HQo6FyCEQuAgiMCdH568ArCbDmfY0YBMFsGEA92g18mMEAPZmFuiVAwF48HB6GgByLllgizlYvHwUGYLQfQR0yJdXBEgM5Ph4LOJRixACg4IkDnpwevIMyW8zlmFACzZQDxYDf4ZQID9GAW5pYIBXPxeHAQCnogUm6JMFu5eBwcDNlsbSzsv/D09eu7v722c+v67m9fePr6jYX9DhhTp8Q6SE3UdjwoaJs4dT4oSE3UdrzgFYTZsj2livIFa7Y2Tuxa27k1+9/GiV1FTLgfD36ZwAC5T8Gi+qBgESHux6Egd4WK6oPZKiJk+3iYZmtH53tZm6VaLndP28ZMmg/rIClOB8GgoAPopCmhIClOB8GCVxBmy8Gsyk0Zptl6ZtsWaa02Tuy69NZJIcTG2Wcu7N0mGy88fX0uE+4Hg18mMEDuU7CoPihYRIj7cSjIXaGi+mC2igjZPh6m2Tq47T9LX3Xp3AFFVN1YXN/9LdXo4wbWQR9V02uGgjoNH7ehoI+q6TUHryDMli43h+0wzdZL2z4jzZaBWDau7dxqtPu1G/wygQH6NSGz1ULBLBO/WqCgX3plq4XZyjJx2xKm2Tq47Q+kr9o4+4zie+mtk7Jxffe3VaOPG1gHfVRNrxkK6jR83IaCPqqm1xy8gjBbutwctsM0W+qZrQt7t8mvH146d0DdRsQzWxxmXk4Nwa+DGGCO+l4cgoJeyJRTZPAKwmzlqO/kUJhm699v+Ka6Y5jd8P1tW8EvExigk7WAMCkUJITpJBQUdIKdMCnMFiFMklBhmq1Op6OuYxlmC+/ZIpk3tQbBQl8rXgvBoaAFyLWmgIK14rUQHGbLAuRKKYI1W0KIy93Tm2+Q/9bmG+S/deHp631/w5aUFutgpSnOsDMUZChKpZKgYCVcDDsHryDMFrdZF7LZ4saaqp7glwkMkGqquIoDBV2Rp8oLBalIuooDs+WK/KC8IZut46++fd/jR2955EA0OXPLIwfue/zo8VffHgTCo3asgx6J1bdUKNgXi0eNUNAjsfqWGryCMFt9dXfYGKzZ2je7EE3OZP/bN7vgEDdJ6uCXCQyQZJ44DAIFHcInSQ0FSTA6DAKz5RB+39Rhmq1o241Zm6VaVt77qC8LXxqxDvqi1KA6oeAgMr60Q0FflBpUZ/AKwmwNkt5Ve5hm6+v//HNprfbNLpx947wQYvb0m5N7jsrGh54+4Qo3Sd7glwkMkGSeOAwCBR3CJ0kNBUkwOgwCs+UQft/UYZqtr/zwLumrTs6/o4atbize8uinfzBRHfVoA+ugR2L1LRUK9sXiUSMU9EisvqUGryDMVl/dHTaGaba2/mBCmi2DrGyMJmeMdr92g18mMEC/JmS2WiiYZeJXCxT0S69stTBbWSZuW8I0W//9h3dLXyXvIUrEZ984LxtveQRXttzOuoLsWOgLALE/DAXZS1RQIBQsAMT+MMwWN4nCNFtf+6c7pa9Sz2ydfeO8uo143+NHuclQqR6sg5VwMewMBRmKUqkkKFgJF8POwSsIs8Vt1oVptv7++pvVHcNockY9Gi8bfX/bVvDLBAbIbZmoWg8UrEqMW38oyE2RqvXAbFUlVnf/MM1Wp9NR17F01xVNzuA9W3VPqdHjY6EfnaHbCFDQLf/Rs0PB0Rm6jQCz5ZZ/NrsNs5WmabPZbGx+4jjOFiFboiiSfVqtVrfbVd3iOJbtjUYj53TVf3p6utPpCCHOvf3uPY8dUWbrnseOnHv7XdXN3w2sg/5qJyuHglCQOQFMUeYCFZYHs1WIyHKH2s1Wt9tttVrSJEnXlSRJdpBxHCuPFUVRu93u9XpCCL1dD5WNoFqU2ZIt6xc2zr5xfv3Churg+wbWQSjInACmKHOBCsuDgoWImHeA2eImUO1mK45j5ZykedJ3JQ7popQJU7u9Xq/dbutXs4xofWkaZqtvH68bsQ56LZ8QAgpCQeYEMEWZC1RYHsxWISLLHWo3W9HmR40qTdPx8XH9LqEQIk3TsbGxNE1VtyiKdI+l2mG28KtaTQZ/N/CbzF/tZOVQEAoyJwCzxU2ges1W9tJU1lcJIZIkUfcQJSDDoslGGS2KonyIuLKVz4f/Ufwm469RfoVQMJ8P/6NQkL9G+RXCbOXzsX/UJ7MVRZHhyfrygtnqi8WjRiz0HonVt1Qo2BeLR41Q0COx+pYKs9UXi8NGb8xWFEXNZlO/1SiEWFhY6Az4zOEDAiAAAiAAAlcxAYfeAqkNAvWaLSGEcUNwuGe2+jotIcTq6mqy+ZnRPhMTE51OZzncz+Li4pkzZ8Id3zIG6Lu4UsGVlRU1kMC21RQNbFxKr6WlJbXIBDlGeeFneXlZji68f+fn5+fm5ozf99h1SKB2s2U80m7sypGrrx/23S1591BBxG1EhcLTDdzC8FQ4VTYUVCg83YCCngqnysZtRIWCyUbtZkt/OdaI79kqiQxmqyQott2w0LOVpmRhULAkKLbdoCBbaUoWBrNVEpS1brWbLflmh75vkDfuMGbfIC+Nmnp9fN/3y2dJwWxlmfjVgoXeL72y1ULBLBO/WqCgX3plq4XZyjJx22LDbFkeIcyWZeDk6bDQkyO1HBAKWgZOng4KkiO1HBBmyzLwwnQwW4WI2HXAOshOkooFQcGKwNh1h4LsJKlYUPAKwmxVnBG1d4fZqh0xeYLglwkMkHzOWA4IBS0DJ08HBcmRWg4Is2UZeGE6mK1CROw6YB1kJ0nFgqBgRWDsukNBdpJULCh4BWG2Ks6I2rvDbNWOmDxB8MsEBkg+ZywHhIKWgZOng4LkSC0HhNmyDLwwHcxWISJ2HbAOspOkYkFQsCIwdt2hIDtJKhYUvIIwWxVnRO3dYbZqR0yeIPhlAgMknzOWA0JBy8DJ00FBcqSWA8JsWQZemA5mqxARuw5YB9lJUrEgKFgRGLvuUJCdJBULCl5BmK2KM6L27jBbtSMmTxD8MoEBks8ZywGhoGXg5OmgIDlSywFhtiwDL0wHs1WIiF0HrIPsJKlYEBSsCIxddyjITpKKBQWvIMxWxRlRe3eYrdoRkycIfpnAAMnnjOWAUNAycPJ0UJAcqeWAMFuWgRemg9kqRMSuA9ZBdpJULAgKVgTGrjsUZCdJxYKCVxBmq+KMqL07zFbtiMkTBL9MYIDkc8ZyQChoGTh5OihIjtRyQJgty8AL08FsFSJi1wHrIDtJKhYEBSsCY9cdCrKTpGJBwSsIs1VxRtTeHWardsTkCYJfJjBA8jljOSAUtAycPB0UJEdqOSDMlmXghelgtgoRseuAdZCdJBULgoIVgbHrDgXZSVKxoOAVhNmqOCNq7w6zVTti8gTBLxMYIPmcsRwQCloGTp4OCpIjtRwQZssy8MJ0MFuFiNh1wDrITpKKBUHBisDYdYeC7CSpWFDwCsJsVZwRtXeH2aodMXmC4JcJDJB8zlgOCAUtAydPBwXJkVoOCLNlGXhhOpitQkTsOmAdZCdJxYKgYEVg7LpDQXaSVCwoeAVhtirOiNq7w2zVjpg8QfDLBAZIPmcsB4SCloGTp4OC5EgtB4TZsgy8MB3MViEidh2wDrKTpGJBULAiMHbdoSA7SSoWFLyCMFsVZ0Tt3WG2akdMniD4ZQIDJJ8zlgNCQcvAydNBQXKklgPCbFkGXpgOZqsQEbsOWAfZSVKxIChYERi77lCQnSQVCwpeQZitijOi9u4wW7UjJk8Q/DKBAZLPGcsBoaBl4OTpoCA5UssBYbYsAy9MB7NViIhdB6yD7CSpWBAUrAiMXXcoyE6SigUFryDMVsUZUXt3mK3aEZMnCH6ZwADJ54zlgFDQMnDydFCQHKnlgDBbloEXpoPZKkTErgPWQXaSVCwIClYExq47FGQnScWCglcQZqvijKi9O8xW7YjJEwS/TGCA5HPGckAoaBk4eTooSI7UckCYLcvAC9PBbBUiYtcB6yA7SSoWBAUrAmPXHQqyk6RiQcErCLNVcUbU3v2qNlvrFzfOvnF+/eJG7ZhJEwS/TGCApPPFQTAo6AA6aUooSIrTQTCYLQfQc1NepWbr+Ktv3zs9G03OyP/unZ49/urbuaAYHcQ6yEiMoUqBgkNhY3QSFGQkxlClBK8gzNZQ86LGk65Gs7VvdkHZLH1j3+xCjaTpQge/TGCAdJPFTSQo6IY7XVYoSMfSTSSYLTfcB2e96szWubff1Q3W5J6j+u65t98dzIrLEayDXJQYtg4oOCw5LudBQS5KDFtH8ArCbA07Neo6z4bZStO02Ww2Nj9xHA8aShRFsk+r1ep2u0a3brc7Pj6epqnRnt2dnp7udDrZdtly3+NX3NXBfb9ZPvbExoldy8eeOLjvN9Jy3ff40UEn8mkPfpnAAPlMtuEqgYLDceNzFhTko8VwlcBsDcetvrNqN1vdbrfVakmPJV1XkiTZ8cRxrDxWFEXtdrvX66luMkiz2RzdbP30kQPR5MzeW67tTo6v7dwq/+tOju+95dpocuanjxxQSdluYB1kK03JwqBgSVBsu0FBttKULCx4BWG2Ss4Ea91qN1txHOvOydiV45ReSpkwYzdJkkajMbb5Gd1sRZMz+2/+8rHtW5TTkhvHtm/Zf/OXo8kZa+iHThT8MoEBDj03mJwIBZkIMXQZUHBodExOhNliIoQqo3azFW1+VL40TcfHx427hGmajo2N6UYqiiJ5MazX67Xb7SRJsn1UTGMj/zbi4xP/emz7lmPbt3Qfal+Y2b5xYteFme3dh9qy8fGJfzWiMdzFOshQlEolQcFKuBh2hoIMRalUUvAKwmxVmg8WOtdrtqRV0p/T6uuZkiRR9xDlmA2LJoToe2JfQPlm66V7viZ91eyTD5ycf0cIcXL+ndknH5CNL93ztb4xWTUGv0xggKzm2xDFQMEhoLE6BQqykmOIYmC2hoBW6ylXndk6/+BXpK+6+d5fqu8h3nzvL2Xj+Qe/UitukuBYB0kwOgwCBR3CJ0kNBUkwOgwSvIIwWw5nV9/UfputhYWFzoDP3IDP8i++fPa2/3rkxj+87vaHv//z38j/rrv94SM3/uHZ2/7r8i++POA8NIMACIAACICATwT6/tZHoxMC9ZotIYRxQ7DqM1sKSt/biKurq8nmZ0b7TExMdDqd5QGfd3/1nffv/9I7E382Fe/4t/tnfnD30/92/8xUvOOdiT97//4vvfur7ww4j1Hz4uLimTNnGBVEXQoGSE3Udjyp4MrKikoc2LaaooGNS+m1tLSkFpkgxygv/CwvL8vRhffv/Pz83Nyc+gWKDecEajdbxtcPjV05fuPrh8au7NPXbPXFl//M1sVDk1e+hzh17YW92z5+QH7vtrWpa2XjxUOTfWOyagz+AjgGyGq+DVEMFBwCGqtToCArOYYoBrcRh4BW6ym1my3pnEZ8zxbhA/JCCGWtjLc/rE1dWytrquBYB6lIuooDBV2Rp8oLBalIuooTvIIwW66m1qC8tZst6ZP6vkHeuMOY/wZ5qitbEsTFQ/cZTuviofsGMeLWHvwygQFym3JV64GCVYlx6w8FuSlStR6YrarE6u5vw2zVPQYjfv5tRNX50uuzl+b2bpzYdWlu76XXZ1U7/w2sg/w1yq8QCubz4X8UCvLXKL/C4BWE2cqfAPaPXr1myz5rqozBLxMYINVUcRUHCroiT5UXClKRdBUHZssV+UF5YbYGkeHbjnWQrzblKoOC5Tjx7QUF+WpTrrLgFYTZKjcR7PWC2bLHmipT8MsEBkg1VVzFgYKuyFPlhYJUJF3FgdlyRX5QXpitQWT4tmMd5KtNucqgYDlOfHtBQb7alKsseAVhtspNBHu9YLbssabKFPwygQFSTRVXcaCgK/JUeaEgFUlXcWC2XJEflBdmaxAZvu1YB/lqU64yKFiOE99eUJCvNuUqC15BmK1yE8FeL5gte6ypMgW/TGCAVFPFVRwo6Io8VV4oSEXSVRyYLVfkB+WF2RpE5tP29QsbTxycu+exI9HkzOSeo0+++OqHH1349LD1LayD1pETJ4SCxECth4OC1pETJwxeQZgt4hkzcjiYrQKEb618cNNDz0eTM/p/nfuffe2tdwvOrO1w8MsEBljb3LEUGApaAl1bGihYG1pLgWG2LIEunQZmKw/V6gdruscytntrF/NOru0Y1sHa0FoKDAUtga4tDRSsDa2lwMErCLNlaSaVTgOzlYfqwd+ekAbrwd++9NxL54QQs6ffnNxzVDY+/LuTeSfXdiz4ZQIDrG3uWAoMBS2Bri0NFKwNraXAMFuWQJdOA7OVh+q2Xx6MJmfu2bHjzal/WN/97bWdW9d3f/vMA9+9Z8eOaHLm1l8ezDu5tmNYB2tDaykwFLQEurY0ULA2tJYCB68gzJalmVQ6DcxWHqptv0gevuOGY9u39B78f9Z2bpX/vf+/vnxs+5aH77hhW5zknVzbseCXCQywtrljKTAUtAS6tjRQsDa0lgLDbFkCXToNzFYeqvvuf/TY9i3Htm959/6/UGZr5Rdfko0T8aN5J9d2DOtgbWgtBYaClkDXlgYK1obWUuDgFYTZsjSTSqeB2cpDdfjuv5W+Kn3i7g9eOyaE6C0eP7nnbtl46O7/kXdybceCXyYwwNrmjqXAUNAS6NrSQMHa0FoKDLNlCXTpNDBbeahe/19fk77qnrvuviF+dnLP0c79z95z1xWz1d15bd7JtR3DOlgbWkuBoaAl0LWlgYK1obUUOHgFYbYszaTSaWC28lCt7dw6d9ufHNu+xXjpw7HtW87+/AtrO7fmnVzbseCXCQywtrljKTAUtAS6tjRQsDa0lgLDbFkCXToNzFYeKvkNxLcmvnj73fcrv3X73fef23GN/GZi3sm1HcM6WBtaS4GhoCXQtaWBgrWhtRQ4eAVhtizNpNJpYLbyUF14+vorz8Ufe2QlnTn7xvnVU8n6sUdl44Wnr887ubZjwS8TGGBtc8dSYChoCXRtaaBgbWgtBYbZsgS6dBqYrTxUGwv71ZcQsxsbC/vzTq7tGNbB2tBaCgwFLYGuLQ0UrA2tpcDBKwizZWkmlU4Ds1WAauPErqzNWtu5dePEroIzazsc/DKBAdY2dywFhoKWQNeWBgrWhtZSYJgtS6BLp4HZKkZ1uXv6wtPXr+/+1uZzWt+68PT1l7uni08r3WP94sbZN86vX9woeQbWwZKg2HaDgmylKVkYFCwJim234BWE2eI292C2XCrywrG5vfGPp2/9f/fecu3uW7/39P03vTCbFhYU/DKBARbOAeYdoCBzgQrLg4KFiJh3gNniJhDMljNFHvvN0wdv/nP5Hi/17+HtX9gzvSe/JqyD+Xz4H4WC/DXKrxAK5vPhfzR4BWG2uE1CmC03ipydO6MM1ks/2XLmts+r3Y9f4jV/Lqes4JcJDDBHfS8OQUEvZMopEgrmwPHiEMwWN5lgttwo8sK935Puaum+rb192y+9dfKdfXeeuvMvZOPzE3+fUxbWwRw4XhyCgl7IlFMkFMyB48Wh4BWE2eI2D2G23Chy8Na/lL7q9f0Pqgpemb5VNh689b+pxuxG8MsEBpgV3a8WKOiXXtlqoWCWiV8tMFvc9ILZcqPI0e1/LH3VB6vvqAo+Wj4nG49u/2PVmN3AOphl4lcLFPRLr2y1UDDLxK+W4BWE2eI2IWG23Chy9NYvXfFVhw6qCuZmn5ONx24dV43ZjYCXiQ8+ujC3tPJYcuKZA8c/+OhCduxhtASsoBQIA/R9okJB3xWE2eKmIMyWG0WO3/tN6auefOiO5MUTQojnj76y7+E7rpite7+eU1ao6+DzTzz6u1u+9vzNf3H0x//l2R9/8ePtJx7N4eDvoVAVVIpggAqFpxtQ0FPhVNkwWwoFkw2YLTdCvDe764qv2r7lyPbP773l2sPb/0S1vPvyb3PKCnIdTB7+mRr+0R//lyM3/qHcTR7+WQ4KTw8FqaCuBQao0/BxGwr6qJpeM8yWToPDNsyWMxXO/+b6kzf/kXIYcuPkzX90/sl/y68pvHXw5OHnFYf0lj9+7Y4/OfGT/0u1nDz8fD4Q746Gp6CU4MPV5eO7f374geteuPMbM/d8//jun3+4uuydOmUKDlVBNXYMUKHwdANmi5twMFsuFVk/9dtzO6555daPX7L1yq2fP7fjmo8O/aKwoPDWwYN3XbmpeuIX3+md3ru8vHzuuYde3fn30m8dvOubhUz86hCegkKI108dnr35C1IydW1y9uYvvH7qsF/qlKk2SAX1gWOAOg2/tucOPnl06pb9P7/22Qd//OqhJ/0qPuBqbZitNE2bzWZj8xPH8SCaURTJPq1Wq9vtqm4lT1f9p6enO52O2uW+cfGjy++9cemtk5fff1NcXCtTbXjr4KGfXXnB2NzTE0IIOcA3no3lb+5DP/uLMlg86hOegr33zqsrkce2b1FmSzb23jvvkTplSg1PQWPUGKABxJfdI4/eKH/oZm/8Q/kwxqF7/s6X4sOus3az1e12W62W9FjSNiVJkmUax7HyWFEUtdvtXq8nhCh5uh7QM7Oll15uO7x18PhPtsgF4v3eujJbvbULsvH4T7aUA+NNr/AUPHL/P0qxjvz0z2cf+fHJF5568YHr1Et6j9z/j95oU67Q8BQ0xo0BGkC82D3y00///psyW8e2bzl8W96LG70YWgBF1m624jhWzkkIYexKgtJRKROm7xr9jd2+AsBs9cXCufHo7f9N/qo++vTHXz+UC/3p5351pfH20FaK8H6THb79ykt6Z3/5E6Xgq7+5XSp4+Pa/5Dz9hqgtPAUNCBigAYT/7uwjP5Y/bsdv+bPZ+B+OzjyeTP6zsl9Hf3U7/yGEXWHtZiva/CiIaZqOj4/rdwmFEGmajo2NpWmqukVRJC+GlTldnSU3YLYMIPx30/g7cpl45ravJw//bDadf3Ky8+zPvyEb0/g7/IdQqcLwfpMd/cmVl/QuL51VZuuDdz55Se9P8l7SWwkdk87hKWiAxQANIPx3D93ZlgumfBhDPiA/++hNsvHQHV/lP4SwK6zXbPV6vXa7rT+nlfVVQogkSdQ9RIlbeqySpxsKwWwZQPjvbizsP6F9MVN/4ufEzX+0sbCf/xAqVRjeb7LDt4zLNX0+PabM1nx6TDYeviXvJb2V0DHpHJ6CBlgM0ADCf/foT6+RP27vvv6qEEKarXMnXpCNsz+9hv8Qwq4QZss/fYNcBzdO7Hrtzj+V64IyW6/d+acbJ3b5p1BRxeEpePiua6V2M7+8+9SZs8vLy7975rmZX94tGw/fdW0REs+Oh6egIQAGaADhv3vk5j+TP25vz7+szNY78ydk4+zNMFuONfTbbC0sLHT6fW688cZ+zWhjTWBH53tP/ejzz1z/uYPX/6dnrv/cUz/6/I7O91hXjOI+ITBx/df3X/dZ+d9M9Ae/vu7PZ6I/0zxdlAAAC61JREFUUC0T13/9k474XxAAgVoIPBZ9Qf7E3X/df79xW9TpdPbs2XPqt/dLs3XozrZjr3HVp6/XbAkhyjx0lb23WPKZrdXV1WTzM6N9JicnO53OdLifiYkJDNBreYNU8Kntf/3iDf+n/O+FH/3n/dd9Vm4/tf2vp6enH3/8cSVZANtKwQDG0lcXNcDwtJPjVQOUCgbw769+/k/qBzD51z99ePu390R/rN6bffKZqave7TgGULvZMr4/aOzK0etfP1Sve5BfTjT6G7t94c3MzPj0nq2+Y8htxABz8XhwMFQFTz1z5Y9QHeqM7b/us8e2bzn1TIB3gYUQoSqofngwQIXCo42Zn/8PeR3r2PYt6mfw2PYtM3d916NRhFpq7War5IuyCN+zhWXC98kKBf1VcL33wfLS2ScevW/7Df+83vvA34HkV44pms+H/9FQFTz2251X7ht+8n94Xnj4Jv5yXA0V1m625Jsd+r5B3rjDSPUG+VB/itR0xAAVCk83oKCnwqmyoaBC4elGwAq+t/zWq4f3PnHPv9x6/fc/XP30b7F4qlQwZdswW5ZhBfxTJEligJZnFHk6KEiO1HJAKGgZOHk6KEiOFAHzCcBs5fPheBTLBEdVqtQEBavQ4tgXCnJUpUpNULAKLfQlIACzRQDRcggsE5aBk6eDguRILQeEgpaBk6eDguRIETCfQIBma3V1dWFhIX/YXh/FAL2WTwgBBaEgcwKYoswFKiwveAULCXDrEKDZ4oYY9YAACIAACIAACFzNBGC2rmb1MXYQAAEQAAEQAIHaCcBs1Y4YCUAABEAABEAABK5mAiGbrSRJGp985PvofVFar7zRaLRarW73yutSqN5GZh9Ft9sdHx9P03RQ6kFD02noOvZ6vXa7LRVut9u9Xm9QZDvt+QNM01S9ba7RaDSbTYWC/wDjOP7kJ6kRx/Egnv4qWGaAXiuoF6//EBlS+qtgmQHqfZz/DGb/SJ2uxaA1QR+C8ZM4SDs9LLYdEgjWbMlJKZeVJEn0320OcZdMPeivEhG+Z79kJVTd5B8SyFFh0NBydIyiSHos6bqiKKKqdog4hQNMkkQ3zSoF/wHq0uh/EEINQW7o3ZQ06p3GfX8SVTe3CuqV5wzQXwX1OZbzO17noKTxQsGSA+SjoJzwg9ZDfTj6Ly99cup9hBCDtDN+SLHrkECwZiv7enq3v4wraWwUL8+VP2nq/5Xqu4Y5M3Yrpa6js/x/aWObH3U5R0+kj8X445gGCrVr/M4wdvXgFrYLByhXw76X39SIZJ1q1xiRsWthUDKF/K2g/3/ovrPLXwVLDtBfBWXl+uoXRZEuqBTaXwVLDpCVgnEcj21++q6HahEw1gTjR0/t5mhnbaFAokICYZqt7AKaJEnfX3WFgOx3yBYva8j+ulWLpvHDmabp+Pi4uvNofwh6RjmcJEmy9atu2UNyaFkUSkfj/6SqLCqmtQ2VOjsKvQZDI3nIiwHqoxj0Gys7do8ULDNAIUQwCvYdSEgK9h0gHwXl2pUkydjYWNZs5awJxrjUOj9IO2NiY9ctgTDNluH0hRDG72a30POzy+LVIzLq3lN2CPJnL/vDmf3Zy89o52hOVYOGlqOj+n91svgsBDuD0rPkDFCWpzRVtw/8GqAQQg5Ev0wiCYShYM4Ag1FQvy2lz95gFBw0QCYKqh/5QcuF6qDUkdIsLi622239kqSKMEg7FQEbHAjAbHFQ4fdqkDfj1Q+Vuhk/6CdKLiKqv3zGou//Z/q9NNZ31NKQzTxoaIPWnW6365fZkgNRHkX9PvBrgPLagHL/uo5hKJgzwAAUlAtLo9FQ8zAwBfMHyERBdXVq0Ho4aE2A2dKnq4/bMFvcVZM/e3EcD/p9BrOlLkjojtO+roNWz2wlUrIoigYtrDzdZBRF6pqcMahBkzOYARrj9VRBOQr94Xc1rjAUzBmgGqnccKKgDnnQcjHoRwZmy1DQu90wzVbWf6hnfbxTSI0l+8PpxTNbCni2/pxDPj7xkzNANVK1MegWsJqo+rqs3KT6eoSKY20jx2n1vZjqnYL5A8xy9k5BNYS+EzXb6J2C+QNUR9WGfQXV2xnUEwWNhvkuFbXgqzrVmqCuislDeGZLIfJiI0yzlX0W0pimnLUxfsuq/6OjNmTx+q5xT83YZTLY7GquCtPH4uO3EeVAcgZoHNLXU2Nmql3jFGNXobOzEUVR37uHKrvvChYO0ODvl4JqUuVMVK8VLDNAbgoa9agfpZxfXsbCrnZztNPDYtstgWDNlv4aEvWIjFvWJbPLnxx1R0y/5q+e35I/kOr7lfop+sBLZrTTLWdxkd9xU7/O9SHrwzF0VN3kb76+T6LYGZrMkjNAo0JdR/4D1KvN4al3U9J48ZYmvfJBA/RaQflqEnlZ1BiIPl6dg18KlhmgMXB9sE5+BnOWi0H15Kzz+nB07XR9se2WQLBmS34DUV2tdXj/ZQiB5Q+VLF45KhlHXYhW1kS2y59PeYoyakOkru8UY3GRa59e6qChyZVUDk3XUUboS6m+UeREzh+gXq2hHecB6lNRolZ/0iAMBcsP0FMF5YzV55j6vyVhKFh+gKwUNJYL4+Kcrpe+6OWs84PWz5wlC4dsEgjZbNnkiFxDEEjTdGpqaogTfTkFA/RFqUF1QsFBZHxp90XBbre7Y8cOX6iiziEIwGwNAQ2n0BCQX7GkicUyCgbIUpYKRUHBCrBYdvVFwSRJ9Mv8LFmiqJEIwGyNhA8nj0Jgx44dTF5zP8oocs7FAHPgeHEICnohU06Rvig4NTWVfZt8zrhwyDsCMFveSYaCQQAEQAAEQAAEfCIAs+WTWqgVBEAABEAABEDAOwIwW95JhoJBAARAAARAAAR8IgCz5ZNaqBUEQAAEQAAEQMA7AjBb3kmGgkEABEAABEAABHwiALPlk1qoFQRAAARAAARAwDsCMFveSYaCQQAEQAAEQAAEfCIAs+WTWqgVBEAABEAABEDAOwIwW95JhoJBwDGBOI4bjYbxVzvL1yT/RJ3+F9/Kn4ueIAACIOAjAZgtH1VDzSDgksAoZkv94WeYLZcSIjcIgIBdAjBbdnkjGwj4TwBmy38NMQIQAAGrBGC2rOJGMhDwiEAURY1PPs1mU/3tNmW2zp0712q1ZJcoivShyT7yUKvVkn8EM03TZrP5SciGbFfXumT70Hcn9ezYBgEQAAFWBGC2WMmBYkCACwHdaRmeSRqpsbEx3Tk1Go04joUQ8pEs5ajkhvRqWbP1yiuvKLumTjF8GxciqAMEQAAEhiUAszUsOZwHAuESUIZJ+id18UnuqqtWhruSF6WSJJG2ST6VpULJoyqUPCrtl7psJs9Vu+ECxshAAASuLgIwW1eX3hgtCJQkoF/ZkqZKnSjNlro5KISQLdJOyRP1q1O6hTLMltptNBrwWIowNkAABAIjALMVmKAYDgjQEFBXpNTdvUajIS9H6dZKJlMty8vL7XZb3VKUR/XLV8pdqW8jGvcWG40rz3LRDANRQAAEQIABAZgtBiKgBBDgTUB6KfVuLWWter2eLFxvqXRlSx+3bu+Ma2l6N2yDAAiAgHcEYLa8kwwFg0DtBNT1J2V6pJ2Stw51ayVL0VvktroMpixU32e29DuM+sP1+l3I2keLBCAAAiBQMwGYrZoBIzwI+ElAeSb9NqL0Xrq1koPTW5S70k9Uz2MpGycf0pqdnZW3Hft29pMcqgYBEAABkwDMlkkE+yAAApKA+l6hdELGVS55pUr21M2W3iJP1HsKIVRY5cD0h/FVI1QAARAAgWAIwGwFIyUGAgIgAAIgAAIgwJEAzBZHVVATCIAACIAACIBAMARgtoKREgMBARAAARAAARDgSABmi6MqqAkEQAAEQAAEQCAYAjBbwUiJgYAACIAACIAACHAkALPFURXUBAIgAAIgAAIgEAwBmK1gpMRAQAAEQAAEQAAEOBKA2eKoCmoCARAAARAAARAIhgDMVjBSYiAgAAIgAAIgAAIcCfx/R2W2lVTda14AAAAASUVORK5CYII=)"
      ],
      "metadata": {
        "id": "zja0F6KOUBFA"
      }
    },
    {
      "cell_type": "markdown",
      "source": [
        "##3. Circuit with many Qubits"
      ],
      "metadata": {
        "id": "s7Z0y85EUS-h"
      }
    },
    {
      "cell_type": "markdown",
      "source": [
        "###**(a)**-- Multi Qubit Systems\n",
        "\n",
        "Learning Objectives:\n",
        "*   Construct the state of a multi-qubit system using the tensor product.\n",
        "*   Define and apply separable operations to multiple qubits.\n",
        "\n",
        "These are the learning objectives posted in the pennylane codebook.\n"
      ],
      "metadata": {
        "id": "mlb3TUinUljo"
      }
    },
    {
      "cell_type": "code",
      "source": [
        "\"\"\" I.11.1:- Preparing basis State \"\"\"\n",
        "\n",
        "num_wires = 3\n",
        "dev = qml.device(\"default.qubit\", wires=num_wires)\n",
        "\n",
        "\n",
        "@qml.qnode(dev)\n",
        "def make_basis_state(basis_id):\n",
        "    \"\"\"Produce the 3-qubit basis state corresponding to |basis_id>.\n",
        "\n",
        "    Note that the system starts in |000>.\n",
        "\n",
        "    Args:\n",
        "        basis_id (int): An integer value identifying the basis state to construct.\n",
        "\n",
        "    Returns:\n",
        "        np.array[complex]: The computational basis state |basis_id>.\n",
        "    \"\"\"\n",
        "\n",
        "    ##################\n",
        "    state=np.binary_repr(basis_id,width=num_wires)\n",
        "    basis_state=[int(i) for i in str(state)]\n",
        "    qml.BasisStatePreparation(basis_state, wires=range(num_wires))\n",
        "    ##################\n",
        "\n",
        "    # CREATE THE BASIS STATE\n",
        "\n",
        "    return qml.state()\n",
        "\n",
        "\n",
        "basis_id = 3\n",
        "print(f\"Output state = {make_basis_state(basis_id)}\")"
      ],
      "metadata": {
        "id": "sGv69q3FU-Qs"
      },
      "execution_count": null,
      "outputs": []
    },
    {
      "cell_type": "markdown",
      "source": [
        "Output\n",
        "\n",
        "```\n",
        "Output state = [0.+0.j 0.+0.j 0.+0.j 1.+0.j 0.+0.j 0.+0.j 0.+0.j 0.+0.j]\n",
        "```\n",
        "\n"
      ],
      "metadata": {
        "id": "ibkVcCbIVS4i"
      }
    },
    {
      "cell_type": "code",
      "source": [
        "\"\"\" I.11.2:- Separable Operation \"\"\"\n",
        "\n",
        "# Creates a device with *two* qubits\n",
        "dev = qml.device(\"default.qubit\", wires=2)\n",
        "\n",
        "\n",
        "@qml.qnode(dev)\n",
        "def two_qubit_circuit():\n",
        "    ##################\n",
        "    qml.Hadamard(wires=0)\n",
        "    qml.PauliX(wires=1)\n",
        "\n",
        "    return [qml.expval(qml.PauliY(0)),qml.expval(qml.PauliZ(1))]\n",
        "    ##################\n",
        "\n",
        "\n",
        "    # PREPARE |+>|1>\n",
        "\n",
        "    # RETURN TWO EXPECTATION VALUES, Y ON FIRST QUBIT, Z ON SECOND QUBIT\n",
        "\n",
        "\n",
        "print(two_qubit_circuit())"
      ],
      "metadata": {
        "id": "yyhb4D3_VXgG"
      },
      "execution_count": null,
      "outputs": []
    },
    {
      "cell_type": "markdown",
      "source": [
        "Output\n",
        "\n",
        "```\n",
        "[tensor(0., requires_grad=True), tensor(-1., requires_grad=True)]\n",
        "```\n",
        "\n"
      ],
      "metadata": {
        "id": "rMz_wBIaV4c6"
      }
    },
    {
      "cell_type": "code",
      "source": [
        "\"\"\" I.11.3:- Expectation value of two qubit observable \"\"\"\n",
        "\n",
        "dev = qml.device(\"default.qubit\", wires=2)\n",
        "\n",
        "\n",
        "@qml.qnode(dev)\n",
        "def create_one_minus():\n",
        "    ##################\n",
        "    qml.PauliX(wires=0)\n",
        "    qml.PauliX(wires=1)\n",
        "    qml.Hadamard(wires=1)\n",
        "\n",
        "    return qml.expval(qml.PauliZ(0)@qml.PauliX(1))\n",
        "    ##################\n",
        "\n",
        "    # PREPARE |1>|->\n",
        "\n",
        "    # RETURN A SINGLE EXPECTATION VALUE Z \\otimes X\n",
        "\n",
        "print(create_one_minus())"
      ],
      "metadata": {
        "id": "OfVEYPQDV8hC"
      },
      "execution_count": null,
      "outputs": []
    },
    {
      "cell_type": "markdown",
      "source": [
        "Output\n",
        "\n",
        "```\n",
        "0.9999999999999996\n",
        "```\n",
        "\n"
      ],
      "metadata": {
        "id": "lkjDJbn-WTvG"
      }
    },
    {
      "cell_type": "code",
      "source": [
        "\"\"\" I.11.4:- Double Trouble \"\"\""
      ],
      "metadata": {
        "id": "1IJIM0tOWYOQ"
      },
      "execution_count": null,
      "outputs": []
    },
    {
      "cell_type": "markdown",
      "source": [
        "![image.png](data:image/png;base64,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)"
      ],
      "metadata": {
        "id": "iimctdbiWk4K"
      }
    },
    {
      "cell_type": "code",
      "source": [
        "dev = qml.device(\"default.qubit\", wires=2)\n",
        "\n",
        "\n",
        "@qml.qnode(dev)\n",
        "def circuit_1(theta):\n",
        "    \"\"\"Implement the circuit and measure Z I and I Z.\n",
        "\n",
        "    Args:\n",
        "        theta (float): a rotation angle.\n",
        "\n",
        "    Returns:\n",
        "        float, float: The expectation values of the observables Z I, and I Z\n",
        "    \"\"\"\n",
        "    ##################\n",
        "    qml.RX(theta,wires=0)\n",
        "    qml.RY(2*theta,wires=1)\n",
        "\n",
        "    return [qml.expval(qml.PauliZ(0)),qml.expval(qml.PauliZ(1))]\n",
        "    ##################\n",
        "\n",
        "@qml.qnode(dev)\n",
        "def circuit_2(theta):\n",
        "    \"\"\"Implement the circuit and measure Z Z.\n",
        "\n",
        "    Args:\n",
        "        theta (float): a rotation angle.\n",
        "\n",
        "    Returns:\n",
        "        float: The expectation value of the observable Z Z\n",
        "    \"\"\"\n",
        "\n",
        "    ##################\n",
        "    qml.RX(theta,wires=0)\n",
        "    qml.RY(2*theta,wires=1)\n",
        "\n",
        "    return qml.expval(qml.PauliZ(0)@qml.PauliZ(1))\n",
        "    ##################\n",
        "\n",
        "def zi_iz_combination(ZI_results, IZ_results):\n",
        "    \"\"\"Implement a function that acts on the ZI and IZ results to\n",
        "    produce the ZZ results. How do you think they should combine?\n",
        "\n",
        "    Args:\n",
        "        ZI_results (np.array[float]): Results from the expectation value of\n",
        "            ZI in circuit_1.\n",
        "        IZ_results (np.array[float]): Results from the expectation value of\n",
        "            IZ in circuit_2.\n",
        "\n",
        "    Returns:\n",
        "        np.array[float]: A combination of ZI_results and IZ_results that\n",
        "        produces results equivalent to measuring ZZ.\n",
        "    \"\"\"\n",
        "\n",
        "    combined_results = np.zeros(len(ZI_results))\n",
        "\n",
        "    ##################\n",
        "    combined_results=(ZI_results*IZ_results)\n",
        "\n",
        "    return combined_results\n",
        "    ##################\n",
        "\n",
        "\n",
        "theta = np.linspace(0, 2 * np.pi, 100)\n",
        "\n",
        "# Run circuit 1, and process the results\n",
        "circuit_1_results = np.array([circuit_1(t) for t in theta])\n",
        "\n",
        "ZI_results = circuit_1_results[:, 0]\n",
        "IZ_results = circuit_1_results[:, 1]\n",
        "combined_results = zi_iz_combination(ZI_results, IZ_results)\n",
        "\n",
        "# Run circuit 2\n",
        "ZZ_results = np.array([circuit_2(t) for t in theta])\n",
        "\n",
        "# Plot your results\n",
        "plot = plotter(theta, ZI_results, IZ_results, ZZ_results, combined_results)"
      ],
      "metadata": {
        "id": "OZ0M_p35WsUs"
      },
      "execution_count": null,
      "outputs": []
    },
    {
      "cell_type": "markdown",
      "source": [
        "![image.png](data:image/png;base64,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)"
      ],
      "metadata": {
        "id": "fdy0m-4EW8dg"
      }
    },
    {
      "cell_type": "markdown",
      "source": [
        "###**(b)**-- All Tied Up\n",
        "\n",
        "Learning Objectives:\n",
        "\n",
        "*   Define and apply entangling operations to multi-qubit systems.\n",
        "*   Define the controlled-NOT (CNOT) gate, and write its matrix representation.\n",
        "*   Define and apply general controlled operations.\n",
        "\n",
        "\n",
        "These are the learning objectives posted in the pennylane codebook.\n"
      ],
      "metadata": {
        "id": "z-4pZ6tqXKcg"
      }
    },
    {
      "cell_type": "code",
      "source": [
        "\"\"\" I.12.1:- Entangling Operation \"\"\"\n",
        "\n",
        "num_wires = 2\n",
        "dev = qml.device(\"default.qubit\", wires=num_wires)\n",
        "\n",
        "\n",
        "@qml.qnode(dev)\n",
        "def apply_cnot(basis_id):\n",
        "    \"\"\"Apply a CNOT to |basis_id>.\n",
        "\n",
        "    Args:\n",
        "        basis_id (int): An integer value identifying the basis state to construct.\n",
        "\n",
        "    Returns:\n",
        "        np.array[complex]: The resulting state after applying CNOT|basis_id>.\n",
        "    \"\"\"\n",
        "\n",
        "    # Prepare the basis state |basis_id>\n",
        "    bits = [int(x) for x in np.binary_repr(basis_id, width=num_wires)]\n",
        "    qml.BasisStatePreparation(bits, wires=[0, 1])\n",
        "\n",
        "    ##################\n",
        "    qml.CNOT(wires=[0,1])\n",
        "\n",
        "    return qml.state()\n",
        "    ##################\n",
        "\n",
        "    # APPLY THE CNOT\n",
        "\n",
        "##################\n",
        "cnot_truth_table = {\"00\": \"00\", \"01\": \"01\", \"10\": \"11\", \"11\": \"10\"}\n",
        "##################\n",
        "\n",
        "# REPLACE THE BIT STRINGS VALUES BELOW WITH THE CORRECT ONES\n",
        "\n",
        "\n",
        "# Run your QNode with various inputs to help fill in your truth table\n",
        "print(apply_cnot(0))"
      ],
      "metadata": {
        "id": "vN9lb9v1XjEb"
      },
      "execution_count": null,
      "outputs": []
    },
    {
      "cell_type": "markdown",
      "source": [
        "Output\n",
        "\n",
        "```\n",
        "[1.+0.j 0.+0.j 0.+0.j 0.+0.j]\n",
        "```\n",
        "\n"
      ],
      "metadata": {
        "id": "i2hnbaKxYImS"
      }
    },
    {
      "cell_type": "code",
      "source": [
        "\"\"\" I.12.2:- Separable or Entangled \"\"\"\n",
        "\n",
        "dev = qml.device(\"default.qubit\", wires=2)\n",
        "\n",
        "\n",
        "@qml.qnode(dev)\n",
        "def apply_h_cnot():\n",
        "    ##################\n",
        "    qml.Hadamard(0)\n",
        "    qml.CNOT([0,1])\n",
        "\n",
        "    return qml.state()\n",
        "    ##################\n",
        "\n",
        "    # APPLY THE OPERATIONS IN THE CIRCUIT\n",
        "\n",
        "\n",
        "print(apply_h_cnot())\n",
        "\n",
        "##################\n",
        "state_status = \"entangled\"\n",
        "##################\n",
        "\n",
        "# SET THIS AS 'separable' OR 'entangled' BASED ON YOUR OUTCOME"
      ],
      "metadata": {
        "id": "_smUHxq5YNXA"
      },
      "execution_count": null,
      "outputs": []
    },
    {
      "cell_type": "markdown",
      "source": [
        "Output\n",
        "\n",
        "```\n",
        "[0.70710678+0.j 0.        +0.j 0.        +0.j 0.70710678+0.j]\n",
        "```\n",
        "\n"
      ],
      "metadata": {
        "id": "Yytj5XihYm7D"
      }
    },
    {
      "cell_type": "code",
      "source": [
        "\"\"\" I.12.3:- Controlled Rotations \"\"\""
      ],
      "metadata": {
        "id": "a6edtMVKYqOc"
      },
      "execution_count": null,
      "outputs": []
    },
    {
      "cell_type": "markdown",
      "source": [
        "![image.png](data:image/png;base64,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)"
      ],
      "metadata": {
        "id": "zp3OGhR8Y5Zd"
      }
    },
    {
      "cell_type": "code",
      "source": [
        "dev = qml.device(\"default.qubit\", wires=3)\n",
        "\n",
        "\n",
        "@qml.qnode(dev)\n",
        "def controlled_rotations(theta, phi, omega):\n",
        "    \"\"\"Implement the circuit above and return measurement outcome probabilities.\n",
        "\n",
        "    Args:\n",
        "        theta (float): A rotation angle\n",
        "        phi (float): A rotation angle\n",
        "        omega (float): A rotation angle\n",
        "\n",
        "    Returns:\n",
        "        np.array[float]: Measurement outcome probabilities of the 3-qubit\n",
        "        computational basis states.\n",
        "    \"\"\"\n",
        "\n",
        "    ##################\n",
        "    qml.Hadamard(0)\n",
        "    qml.CRX(theta,[0,1])\n",
        "    qml.CRY(phi,[1,2])\n",
        "    qml.CRZ(omega,[2,0])\n",
        "    ##################\n",
        "\n",
        "    # APPLY THE OPERATIONS IN THE CIRCUIT AND RETURN MEASUREMENT PROBABILITIES\n",
        "\n",
        "    return qml.probs([0,1,2])\n",
        "\n",
        "\n",
        "theta, phi, omega = 0.1, 0.2, 0.3\n",
        "print(controlled_rotations(theta, phi, omega))"
      ],
      "metadata": {
        "id": "HeHt0o9sY76_"
      },
      "execution_count": null,
      "outputs": []
    },
    {
      "cell_type": "markdown",
      "source": [
        "Output\n",
        "\n",
        "```\n",
        "[5.00000000e-01 0.00000000e+00 0.00000000e+00 0.00000000e+00\n",
        " 4.98751041e-01 0.00000000e+00 1.23651067e-03 1.24480103e-05]\n",
        "```\n",
        "\n"
      ],
      "metadata": {
        "id": "ZOBNny7OZHoX"
      }
    },
    {
      "cell_type": "markdown",
      "source": [
        "###(c)-- We've Got it Under Control\n",
        "\n",
        "Learning Objectives:\n",
        "\n",
        "*   Define and apply a set of common multi-qubit operations: the controlled-Z, Toffoli, and SWAP gates.\n",
        "*   Express common 3-qubit operations in terms of 1- and 2-qubit operations.\n",
        "\n",
        "These are the learning objectives posted in the pennylane codebook.\n"
      ],
      "metadata": {
        "id": "Av3msPXlZQj1"
      }
    },
    {
      "cell_type": "code",
      "source": [
        "\"\"\" I.13.1:- The Imposter CZ \"\"\"\n",
        "\n",
        "dev = qml.device(\"default.qubit\", wires=2)\n",
        "\n",
        "# Prepare a two-qubit state; change up the angles if you like\n",
        "phi, theta, omega = 1.2, 2.3, 3.4\n",
        "\n",
        "\n",
        "@qml.qnode(device=dev)\n",
        "def true_cz(phi, theta, omega):\n",
        "    prepare_states(phi, theta, omega)\n",
        "\n",
        "    ##################\n",
        "    # YOUR CODE HERE #\n",
        "    ##################\n",
        "    qml.CZ([0,1])\n",
        "\n",
        "    # IMPLEMENT THE REGULAR CZ GATE HERE\n",
        "\n",
        "    return qml.state()\n",
        "\n",
        "\n",
        "@qml.qnode(dev)\n",
        "def imposter_cz(phi, theta, omega):\n",
        "    prepare_states(phi, theta, omega)\n",
        "\n",
        "    ##################\n",
        "    qml.Hadamard(1)\n",
        "    qml.CNOT([0,1])\n",
        "    qml.Hadamard(1)\n",
        "    ##################\n",
        "\n",
        "    # IMPLEMENT CZ USING ONLY H AND CNOT\n",
        "\n",
        "    return qml.state()\n",
        "\n",
        "\n",
        "print(f\"True CZ output state {true_cz(phi, theta, omega)}\")\n",
        "print(f\"Imposter CZ output state {imposter_cz(phi, theta, omega)}\")"
      ],
      "metadata": {
        "id": "JPJTx9Y-Z4rO"
      },
      "execution_count": null,
      "outputs": []
    },
    {
      "cell_type": "markdown",
      "source": [
        "Output\n",
        "\n",
        "```\n",
        "True CZ output state [ 0.03236841-0.04150115j -0.38798296-0.11645235j -0.09362312+0.07117271j\n",
        " -0.77166758-0.47311342j]\n",
        "Imposter CZ output state [ 0.03236841-0.04150115j -0.38798296-0.11645235j -0.09362312+0.07117271j\n",
        " -0.77166758-0.47311342j]\n",
        "```\n",
        "\n"
      ],
      "metadata": {
        "id": "TzYkw27oaNhr"
      }
    },
    {
      "cell_type": "code",
      "source": [
        "\"\"\" I.13.2:- The SWAP Gate \"\"\"\n",
        "\n",
        "dev = qml.device(\"default.qubit\", wires=2)\n",
        "\n",
        "# Prepare a two-qubit state; change up the angles if you like\n",
        "phi, theta, omega = 1.2, 2.3, 3.4\n",
        "\n",
        "\n",
        "@qml.qnode(dev)\n",
        "def apply_swap(phi, theta, omega):\n",
        "    prepare_states(phi, theta, omega)\n",
        "\n",
        "    ##################\n",
        "    # YOUR CODE HERE #\n",
        "    ##################\n",
        "    qml.SWAP([0,1])\n",
        "\n",
        "    # IMPLEMENT THE REGULAR SWAP GATE HERE\n",
        "\n",
        "    return qml.state()\n",
        "\n",
        "\n",
        "@qml.qnode(dev)\n",
        "def apply_swap_with_cnots(phi, theta, omega):\n",
        "    prepare_states(phi, theta, omega)\n",
        "\n",
        "    ##################\n",
        "    qml.CNOT([0,1])\n",
        "    qml.CNOT([1,0])\n",
        "    qml.CNOT([0,1])\n",
        "    ##################\n",
        "\n",
        "    # IMPLEMENT THE SWAP GATE USING A SEQUENCE OF CNOTS\n",
        "\n",
        "    return qml.state()\n",
        "\n",
        "\n",
        "print(f\"Regular SWAP state = {apply_swap(phi, theta, omega)}\")\n",
        "print(f\"CNOT SWAP state = {apply_swap_with_cnots(phi, theta, omega)}\")"
      ],
      "metadata": {
        "id": "_Jvi9zVGaRK9"
      },
      "execution_count": null,
      "outputs": []
    },
    {
      "cell_type": "markdown",
      "source": [
        "Output\n",
        "\n",
        "```\n",
        "Regular SWAP state = [ 0.03236841-0.04150115j -0.09362312+0.07117271j -0.38798296-0.11645235j\n",
        "  0.77166758+0.47311342j]\n",
        "CNOT SWAP state = [ 0.03236841-0.04150115j -0.09362312+0.07117271j -0.38798296-0.11645235j\n",
        "  0.77166758+0.47311342j]\n",
        "```\n",
        "\n"
      ],
      "metadata": {
        "id": "STUO6-H0alen"
      }
    },
    {
      "cell_type": "code",
      "source": [
        "\"\"\" I.13.3- The Toffoli Gate \"\"\"\n",
        "\n",
        "dev = qml.device(\"default.qubit\", wires=3)\n",
        "\n",
        "# Prepare first qubit in |1>, and arbitrary states on the second two qubits\n",
        "phi, theta, omega = 1.2, 2.3, 3.4\n",
        "\n",
        "\n",
        "# A helper function just so you can visualize the initial state\n",
        "# before the controlled SWAP occurs.\n",
        "@qml.qnode(dev)\n",
        "def no_swap(phi, theta, omega):\n",
        "    prepare_states(phi, theta, omega)\n",
        "    return qml.state()\n",
        "\n",
        "\n",
        "@qml.qnode(dev)\n",
        "def controlled_swap(phi, theta, omega):\n",
        "    prepare_states(phi, theta, omega)\n",
        "\n",
        "    ##################\n",
        "    qml.Toffoli([0,1,2])\n",
        "    qml.Toffoli([0,2,1])\n",
        "    qml.Toffoli([0,1,2])\n",
        "    ##################\n",
        "\n",
        "    # PERFORM A CONTROLLED SWAP USING A SEQUENCE OF TOFFOLIS\n",
        "\n",
        "    return qml.state()\n",
        "\n",
        "\n",
        "print(no_swap(phi, theta, omega))\n",
        "print(controlled_swap(phi, theta, omega))"
      ],
      "metadata": {
        "id": "1mpB_I8xaqZa"
      },
      "execution_count": null,
      "outputs": []
    },
    {
      "cell_type": "markdown",
      "source": [
        "Output\n",
        "\n",
        "```\n",
        "[ 0.        +0.j          0.        +0.j          0.        +0.j\n",
        "  0.        +0.j          0.03236841-0.04150115j -0.38798296-0.11645235j\n",
        " -0.09362312+0.07117271j  0.77166758+0.47311342j]\n",
        "[ 0.        +0.j          0.        +0.j          0.        +0.j\n",
        "  0.        +0.j          0.03236841-0.04150115j -0.09362312+0.07117271j\n",
        " -0.38798296-0.11645235j  0.77166758+0.47311342j]\n",
        "```\n",
        "\n"
      ],
      "metadata": {
        "id": "vDSI1XqibBhC"
      }
    },
    {
      "cell_type": "code",
      "source": [
        "\"\"\" I.13.4- Mixed Controlled Gates \"\"\""
      ],
      "metadata": {
        "id": "CLqtSmCJbIoH"
      },
      "execution_count": null,
      "outputs": []
    },
    {
      "cell_type": "markdown",
      "source": [
        "![image.png](data:image/png;base64,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)"
      ],
      "metadata": {
        "id": "KEcf6rYSbZ4S"
      }
    },
    {
      "cell_type": "code",
      "source": [
        "dev = qml.device(\"default.qubit\", wires=4)\n",
        "\n",
        "\n",
        "@qml.qnode(dev)\n",
        "def four_qubit_mcx():\n",
        "    ##################\n",
        "    qml.Hadamard(0)\n",
        "    qml.Hadamard(1)\n",
        "    qml.Hadamard(2)\n",
        "    qml.MultiControlledX(control_wires=[0, 1, 2], wires=3, control_values=\"001\")\n",
        "    ##################\n",
        "\n",
        "\n",
        "    # IMPLEMENT THE CIRCUIT ABOVE USING A 4-QUBIT MULTI-CONTROLLED X\n",
        "\n",
        "    return qml.state()\n",
        "\n",
        "\n",
        "print(four_qubit_mcx())"
      ],
      "metadata": {
        "id": "E2N71Pxzbgd3"
      },
      "execution_count": null,
      "outputs": []
    },
    {
      "cell_type": "markdown",
      "source": [
        "Output\n",
        "\n",
        "```\n",
        "[0.35355339+0.j 0.        +0.j 0.        +0.j 0.35355339+0.j\n",
        " 0.35355339+0.j 0.        +0.j 0.35355339+0.j 0.        +0.j\n",
        " 0.35355339+0.j 0.        +0.j 0.35355339+0.j 0.        +0.j\n",
        " 0.35355339+0.j 0.        +0.j 0.35355339+0.j 0.        +0.j]\n",
        "```\n",
        "\n"
      ],
      "metadata": {
        "id": "fP_bnnvAbpb8"
      }
    },
    {
      "cell_type": "code",
      "source": [
        "\"\"\" I.13.5:- The 3-controlled-NOT \"\"\"\n",
        "\n",
        "# Wires 0, 1, 2 are the control qubits\n",
        "# Wire 3 is the auxiliary qubit\n",
        "# Wire 4 is the target\n",
        "dev = qml.device(\"default.qubit\", wires=5)\n",
        "\n",
        "\n",
        "@qml.qnode(dev)\n",
        "def four_qubit_mcx_only_tofs():\n",
        "    # We will initialize the control qubits in state |1> so you can see\n",
        "    # how the output state gets changed.\n",
        "    qml.PauliX(wires=0)\n",
        "    qml.PauliX(wires=1)\n",
        "    qml.PauliX(wires=2)\n",
        "\n",
        "    ##################\n",
        "    qml.Toffoli([0,1,3])\n",
        "    qml.Toffoli([2,3,4])\n",
        "    qml.Toffoli([0,1,3])\n",
        "    ##################\n",
        "\n",
        "    # IMPLEMENT A 3-CONTROLLED NOT WITH TOFFOLIS\n",
        "\n",
        "    return qml.state()\n",
        "\n",
        "print(four_qubit_mcx_only_tofs())"
      ],
      "metadata": {
        "id": "z9Rnpg5Xb1CJ"
      },
      "execution_count": null,
      "outputs": []
    },
    {
      "cell_type": "markdown",
      "source": [
        "Output\n",
        "\n",
        "```\n",
        "[0.+0.j 0.+0.j 0.+0.j 0.+0.j 0.+0.j 0.+0.j 0.+0.j 0.+0.j 0.+0.j 0.+0.j\n",
        " 0.+0.j 0.+0.j 0.+0.j 0.+0.j 0.+0.j 0.+0.j 0.+0.j 0.+0.j 0.+0.j 0.+0.j\n",
        " 0.+0.j 0.+0.j 0.+0.j 0.+0.j 0.+0.j 0.+0.j 0.+0.j 0.+0.j 0.+0.j 1.+0.j\n",
        " 0.+0.j 0.+0.j]\n",
        "```\n",
        "\n"
      ],
      "metadata": {
        "id": "DcnD_hijcbMY"
      }
    },
    {
      "cell_type": "markdown",
      "source": [
        "###**(d)**-- Multi-Qubit Gate Challenge\n",
        "\n",
        "Learning Objectives:\n",
        "\n",
        "*   Use this as a reference for all your single- and multi-qubit gate needs!\n",
        "*   Prepare two-qubit states by combinaning single- and two-qubit gates.\n",
        "\n",
        "These are the learning objectives posted in the pennylane codebook."
      ],
      "metadata": {
        "id": "84i_D1sAdLL4"
      }
    },
    {
      "cell_type": "code",
      "source": [
        "\"\"\" I.15.1:- The Bell States \"\"\"\n",
        "\n",
        "dev = qml.device(\"default.qubit\", wires=2)\n",
        "\n",
        "# Starting from the state |00>, implement a PennyLane circuit\n",
        "# to construct each of the Bell basis states.\n",
        "\n",
        "\n",
        "@qml.qnode(dev)\n",
        "def prepare_psi_plus():\n",
        "    ##################\n",
        "    qml.Hadamard(0)\n",
        "    qml.CNOT([0,1])\n",
        "    ##################\n",
        "\n",
        "\n",
        "    # PREPARE (1/sqrt(2)) (|00> + |11>)\n",
        "\n",
        "    return qml.state()\n",
        "\n",
        "\n",
        "@qml.qnode(dev)\n",
        "def prepare_psi_minus():\n",
        "    ##################\n",
        "    qml.Hadamard(0)\n",
        "    qml.CNOT([0,1])\n",
        "    qml.PauliZ(1)\n",
        "    ##################\n",
        "\n",
        "\n",
        "    # PREPARE (1/sqrt(2)) (|00> - |11>)\n",
        "\n",
        "    return qml.state()\n",
        "\n",
        "\n",
        "@qml.qnode(dev)\n",
        "def prepare_phi_plus():\n",
        "    ##################\n",
        "    qml.Hadamard(0)\n",
        "    qml.CNOT([0,1])\n",
        "    qml.PauliX(1)\n",
        "    ##################\n",
        "\n",
        "    # PREPARE  (1/sqrt(2)) (|01> + |10>)\n",
        "\n",
        "    return qml.state()\n",
        "\n",
        "\n",
        "@qml.qnode(dev)\n",
        "def prepare_phi_minus():\n",
        "    ##################\n",
        "    qml.Hadamard(0)\n",
        "    qml.CNOT([0,1])\n",
        "    qml.PauliZ(1)\n",
        "    qml.PauliX(1)\n",
        "    ##################\n",
        "\n",
        "\n",
        "    # PREPARE  (1/sqrt(2)) (|01> - |10>)\n",
        "\n",
        "    return qml.state()\n",
        "\n",
        "\n",
        "psi_plus = prepare_psi_plus()\n",
        "psi_minus = prepare_psi_minus()\n",
        "phi_plus = prepare_phi_plus()\n",
        "phi_minus = prepare_phi_minus()\n",
        "\n",
        "# Uncomment to print results\n",
        "print(f\"|ψ_+> = {psi_plus}\")\n",
        "print(f\"|ψ_-> = {psi_minus}\")\n",
        "print(f\"|ϕ_+> = {phi_plus}\")\n",
        "print(f\"|ϕ_-> = {phi_minus}\")"
      ],
      "metadata": {
        "id": "Zm_0aAn8dn3e"
      },
      "execution_count": null,
      "outputs": []
    },
    {
      "cell_type": "markdown",
      "source": [
        "Output\n",
        "\n",
        "```\n",
        "|ψ_+> = [0.70710678+0.j 0.        +0.j 0.        +0.j 0.70710678+0.j]\n",
        "|ψ_-> = [ 0.70710678+0.j  0.        +0.j  0.        +0.j -0.70710678+0.j]\n",
        "|ϕ_+> = [0.        +0.j 0.70710678+0.j 0.70710678+0.j 0.        +0.j]\n",
        "|ϕ_-> = [ 0.        +0.j  0.70710678+0.j -0.70710678+0.j  0.        +0.j]\n",
        "```\n",
        "\n"
      ],
      "metadata": {
        "id": "DAVqjAI3eAbY"
      }
    },
    {
      "cell_type": "code",
      "source": [
        "\"\"\" I.15.2:- Quantum Multiplexer \"\"\"\n",
        "\n",
        "dev = qml.device(\"default.qubit\", wires=3)\n",
        "\n",
        "# State of first 2 qubits\n",
        "state = [0, 1]\n",
        "\n",
        "\n",
        "@qml.qnode(device=dev)\n",
        "def apply_control_sequence(state):\n",
        "    # Set up initial state of the first two qubits\n",
        "    if state[0] == 1:\n",
        "        qml.PauliX(wires=0)\n",
        "    if state[1] == 1:\n",
        "        qml.PauliX(wires=1)\n",
        "\n",
        "    # Set up initial state of the third qubit - use |->\n",
        "    # so we can see the effect on the output\n",
        "    qml.PauliX(wires=2)\n",
        "    qml.Hadamard(wires=2)\n",
        "\n",
        "    ##################\n",
        "    if state== [0,1]:\n",
        "        qml.PauliX(2)\n",
        "    if state== [1,0]:\n",
        "        qml.PauliZ(2)\n",
        "    if state== [1,1]:\n",
        "        qml.PauliY(2)\n",
        "    ##################\n",
        "\n",
        "\n",
        "    # IMPLEMENT THE MULTIPLEXER\n",
        "    # IF STATE OF FIRST TWO QUBITS IS 01, APPLY X TO THIRD QUBIT\n",
        "\n",
        "    # IF STATE OF FIRST TWO QUBITS IS 10, APPLY Z TO THIRD QUBIT\n",
        "\n",
        "    # IF STATE OF FIRST TWO QUBITS IS 11, APPLY Y TO THIRD QUBIT\n",
        "\n",
        "    return qml.state()\n",
        "\n",
        "\n",
        "print(apply_control_sequence(state))"
      ],
      "metadata": {
        "id": "fd-sEuFdeEuc"
      },
      "execution_count": null,
      "outputs": []
    },
    {
      "cell_type": "markdown",
      "source": [
        "Output\n",
        "\n",
        "```\n",
        "[ 0.        +0.j  0.        +0.j -0.70710678+0.j  0.70710678+0.j\n",
        "  0.        +0.j  0.        +0.j  0.        +0.j  0.        +0.j]\n",
        "```\n",
        "\n"
      ],
      "metadata": {
        "id": "r0W5YCZveVF-"
      }
    }
  ]
}